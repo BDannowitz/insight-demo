{
 "cells": [
  {
   "cell_type": "markdown",
   "metadata": {},
   "source": [
    "# Classification of Target Position based on Ancillary Measurements\n",
    "### *Identifying our targets by what they \"sound\" like*\n",
    "\n",
    "by: Bryan Dannowitz\n",
    "\n",
    "### Problem:\n",
    "Our proton beam shoots at our *target table*. The table shifts back and forth, allowing us to hit one of seven targets. For a certain range of data, we're not 100% sure what our target position was. We want to be certain before we analyze it.\n",
    "\n",
    "### Objective:\n",
    "We have many (90+) readouts of esoteric measures like *trigger rates* and radiation levels. Here, I aggregate these readouts, exclude non-useful *features*, and train a *Random Forest Classifier* to predict our target position.\n",
    "\n",
    "### Procedure:\n",
    "1. Get a full readout of *features* from our MySQL storage\n",
    "2. Clean it up by removing entries from 'bad spills'\n",
    "3. Exclude any non-helpful *features*\n",
    "4. Train and test an RFC\n",
    "5. Pickle it for daily use at our experiment"
   ]
  },
  {
   "cell_type": "markdown",
   "metadata": {},
   "source": [
    "## Imports"
   ]
  },
  {
   "cell_type": "code",
   "execution_count": 1,
   "metadata": {
    "collapsed": true
   },
   "outputs": [],
   "source": [
    "import os                           # Check if files exist\n",
    "import sys                          # Import my own modules"
   ]
  },
  {
   "cell_type": "markdown",
   "metadata": {},
   "source": [
    "## Tools used"
   ]
  },
  {
   "cell_type": "code",
   "execution_count": 2,
   "metadata": {
    "collapsed": true
   },
   "outputs": [],
   "source": [
    "import MySQLdb as mdb               # Raw data source is MySQL\n",
    "import pandas as pd                 # Workhorse data management tool\n",
    "import numpy as np                  # For matrices, arrays, matrix math, and nan's\n",
    "from math import floor"
   ]
  },
  {
   "cell_type": "markdown",
   "metadata": {},
   "source": [
    "## Notebook Specifics"
   ]
  },
  {
   "cell_type": "code",
   "execution_count": 3,
   "metadata": {
    "collapsed": false
   },
   "outputs": [],
   "source": [
    "%matplotlib inline           \n",
    "pd.set_option(\"max_rows\", 10)\n",
    "np.set_printoptions(precision=3)       "
   ]
  },
  {
   "cell_type": "markdown",
   "metadata": {},
   "source": [
    "## Plotting, Graphics"
   ]
  },
  {
   "cell_type": "code",
   "execution_count": 4,
   "metadata": {
    "collapsed": true
   },
   "outputs": [],
   "source": [
    "import matplotlib.pyplot as plt     # For plotting some distributions\n",
    "import seaborn as sns               # For easy, pretty plotting\n",
    "sns.set_style(\"darkgrid\")\n",
    "sns.set_context(\"talk\", font_scale=1.4)"
   ]
  },
  {
   "cell_type": "markdown",
   "metadata": {},
   "source": [
    "## My Own Modules"
   ]
  },
  {
   "cell_type": "code",
   "execution_count": 5,
   "metadata": {
    "collapsed": false
   },
   "outputs": [],
   "source": [
    "sys.path.append('modules')          # Include location of my own modules\n",
    "from spill import get_bad_spills    # Function for getting a set of bad spillID's\n",
    "from servers import server_dict     # Contains specific connection parameters to our servers"
   ]
  },
  {
   "cell_type": "markdown",
   "metadata": {},
   "source": [
    "# Wrangling the data into shape"
   ]
  },
  {
   "cell_type": "markdown",
   "metadata": {},
   "source": [
    "## Reading Data from MySQL"
   ]
  },
  {
   "cell_type": "code",
   "execution_count": 13,
   "metadata": {
    "collapsed": false
   },
   "outputs": [],
   "source": [
    "server = 'e906-db3.fnal.gov'                         # Source MySQL server\n",
    "schema = 'merged_roadset59_R004_V005'                # Source MySQL schema\n",
    "analysis_schema = 'user_dannowitz_target_analysis'   # A schema name for temporary storage\n",
    "analysis_table = 'target_analysis'                   # A table name for that schema"
   ]
  },
  {
   "cell_type": "code",
   "execution_count": 14,
   "metadata": {
    "collapsed": true
   },
   "outputs": [],
   "source": [
    "# Aggregate data into our analysis schema and table.\n",
    "# Table defined here:\n",
    "create_query = \"\"\"\n",
    "               CREATE TABLE IF NOT EXISTS %s.%s\n",
    "               (\n",
    "                   spillID MEDIUMINT NOT NULL,\n",
    "                   name VARCHAR(64),\n",
    "                   value DOUBLE NOT NULL,\n",
    "                   targetPos INT NOT NULL\n",
    "                )\"\"\""
   ]
  },
  {
   "cell_type": "code",
   "execution_count": 15,
   "metadata": {
    "collapsed": false
   },
   "outputs": [],
   "source": [
    "# Here is one MySQL query that will grab all the data we want\n",
    "#     Most of this requires a bit of domain expertise to understand\n",
    "#     as it's specific to our experiment's data structure\n",
    "scaler_query =  \"\"\"\n",
    "                INSERT INTO %s.%s\n",
    "                ### Get data from our Scaler table, along with the target position.\n",
    "                ### This contains features from our triggering systems (data taking rates)\n",
    "                \n",
    "                SELECT s.spillID, scalerName AS `name`, value, targetPos\n",
    "                FROM Scaler \n",
    "                INNER JOIN Spill s              # Source of targetPos\n",
    "                    USING(spillID) \n",
    "                WHERE scalerName IS NOT NULL AND \n",
    "                      s.spillID NOT BETWEEN 416709 AND 423255 AND\n",
    "                      s.spillID NOT BETWEEN 482574 AND 484924 AND\n",
    "                      spillType='EOS'\n",
    "                \"\"\""
   ]
  },
  {
   "cell_type": "code",
   "execution_count": 16,
   "metadata": {
    "collapsed": true
   },
   "outputs": [],
   "source": [
    "beam_query = \"\"\"\n",
    "             INSERT INTO %s.%s\n",
    "             ### Get data from our Beam table, along with the target position\n",
    "             ### This contains features from our proton beam and radiation monitors\n",
    "\n",
    "             SELECT s.spillID, name, value, targetPos \n",
    "             FROM Beam\n",
    "             INNER JOIN Spill s              # Source of targetPos\n",
    "                 USING(spillID)\n",
    "             WHERE name IS NOT NULL AND\n",
    "                 LEFT(name,3)!='F:M' AND   # Exclude features that are always NULL\n",
    "                 name!='F:NM2SEM' AND      # \n",
    "                 name!='U:TODB25' AND      #\n",
    "                 name!='S:KTEVTC' AND      #\n",
    "                 s.spillID NOT BETWEEN 416709 AND 423255 AND\n",
    "                 s.spillID NOT BETWEEN 482574 AND 484924\n",
    "            \"\"\""
   ]
  },
  {
   "cell_type": "code",
   "execution_count": 17,
   "metadata": {
    "collapsed": true
   },
   "outputs": [],
   "source": [
    "# The query for reading out the aggregated information\n",
    "fetch_query = \"\"\"SELECT * FROM %s.%s\"\"\""
   ]
  },
  {
   "cell_type": "code",
   "execution_count": 22,
   "metadata": {
    "collapsed": false
   },
   "outputs": [],
   "source": [
    "# Run the query and read the resultset into a DataFrame\n",
    "try:\n",
    "    db = mdb.connect(read_default_file='./.my.cnf',                  # Keep my login credentials secure\n",
    "                     read_default_group='guest',                   # Read-only access to important data\n",
    "                     host=server,\n",
    "                     db=schema,\n",
    "                     port=server_dict[server]['port'])\n",
    "    \n",
    "    cur = db.cursor()\n",
    "    \n",
    "    cur.execute(\"SHOW DATABASES LIKE '%s'\" % analysis_schema)      # See if schema exists\n",
    "    \n",
    "    if cur.rowcount != 0:\n",
    "        cur.execute(\"DROP DATABASE %s\" % analysis_schema)          # Drop if it does\n",
    "    \n",
    "    cur.execute(\"CREATE DATABASE %s\" % analysis_schema)            # Create analysis schema\n",
    "    cur.execute(create_query % (analysis_schema, analysis_table))  # Create analysis table\n",
    "    \n",
    "    cur.execute(scaler_query % (analysis_schema, analysis_table))  # Fill table with scaler data\n",
    "    cur.execute(beam_query % (analysis_schema, analysis_table))    # Fill table with beam data\n",
    "    \n",
    "    data_df = pd.read_sql(fetch_query %                            # Read data into DataFrame\n",
    "                          (analysis_schema, analysis_table), db)\n",
    "\n",
    "    if db:\n",
    "        db.close()\n",
    "\n",
    "except mdb.Error, e:\n",
    "\n",
    "    print \"Error %d: %s\" % (e.args[0], e.args[1])"
   ]
  },
  {
   "cell_type": "code",
   "execution_count": 28,
   "metadata": {
    "collapsed": false
   },
   "outputs": [],
   "source": [
    "# Write to file, and you can read it back instead of querying again\n",
    "data_df.to_csv('insight_demo_roadset59_long.csv')"
   ]
  },
  {
   "cell_type": "markdown",
   "metadata": {},
   "source": [
    "## Explore the Data"
   ]
  },
  {
   "cell_type": "code",
   "execution_count": 23,
   "metadata": {
    "collapsed": false
   },
   "outputs": [
    {
     "data": {
      "text/html": [
       "<div style=\"max-height:1000px;max-width:1500px;overflow:auto;\">\n",
       "<table border=\"1\" class=\"dataframe\">\n",
       "  <thead>\n",
       "    <tr style=\"text-align: right;\">\n",
       "      <th></th>\n",
       "      <th>spillID</th>\n",
       "      <th>name</th>\n",
       "      <th>value</th>\n",
       "      <th>targetPos</th>\n",
       "    </tr>\n",
       "  </thead>\n",
       "  <tbody>\n",
       "    <tr>\n",
       "      <th>0</th>\n",
       "      <td> 384016</td>\n",
       "      <td> AcceptedMATRIX1</td>\n",
       "      <td> 5324</td>\n",
       "      <td> 1</td>\n",
       "    </tr>\n",
       "    <tr>\n",
       "      <th>1</th>\n",
       "      <td> 384016</td>\n",
       "      <td> AcceptedMATRIX2</td>\n",
       "      <td>    0</td>\n",
       "      <td> 1</td>\n",
       "    </tr>\n",
       "    <tr>\n",
       "      <th>2</th>\n",
       "      <td> 384016</td>\n",
       "      <td> AcceptedMATRIX3</td>\n",
       "      <td>   51</td>\n",
       "      <td> 1</td>\n",
       "    </tr>\n",
       "    <tr>\n",
       "      <th>3</th>\n",
       "      <td> 384016</td>\n",
       "      <td> AcceptedMATRIX4</td>\n",
       "      <td>   18</td>\n",
       "      <td> 1</td>\n",
       "    </tr>\n",
       "    <tr>\n",
       "      <th>4</th>\n",
       "      <td> 384016</td>\n",
       "      <td> AcceptedMATRIX5</td>\n",
       "      <td>   19</td>\n",
       "      <td> 1</td>\n",
       "    </tr>\n",
       "  </tbody>\n",
       "</table>\n",
       "<p>5 rows × 4 columns</p>\n",
       "</div>"
      ],
      "text/plain": [
       "   spillID             name  value  targetPos\n",
       "0   384016  AcceptedMATRIX1   5324          1\n",
       "1   384016  AcceptedMATRIX2      0          1\n",
       "2   384016  AcceptedMATRIX3     51          1\n",
       "3   384016  AcceptedMATRIX4     18          1\n",
       "4   384016  AcceptedMATRIX5     19          1\n",
       "\n",
       "[5 rows x 4 columns]"
      ]
     },
     "execution_count": 23,
     "metadata": {},
     "output_type": "execute_result"
    }
   ],
   "source": [
    "data_df.head()                   # Peek at the data"
   ]
  },
  {
   "cell_type": "code",
   "execution_count": 25,
   "metadata": {
    "collapsed": false
   },
   "outputs": [
    {
     "name": "stdout",
     "output_type": "stream",
     "text": [
      "<class 'pandas.core.frame.DataFrame'>\n",
      "Int64Index: 905513 entries, 0 to 905512\n",
      "Data columns (total 4 columns):\n",
      "spillID      905513 non-null int64\n",
      "name         905513 non-null object\n",
      "value        905513 non-null float64\n",
      "targetPos    905513 non-null int64\n",
      "dtypes: float64(1), int64(2), object(1)"
     ]
    }
   ],
   "source": [
    "data_df.info()                # ...and investigate data types."
   ]
  },
  {
   "cell_type": "markdown",
   "metadata": {},
   "source": [
    "### Type conversion\n",
    "The ML classifier we're going to use only works on numerical data, so we need to change the 'value' field to a numerical data type"
   ]
  },
  {
   "cell_type": "code",
   "execution_count": 30,
   "metadata": {
    "collapsed": false
   },
   "outputs": [
    {
     "name": "stdout",
     "output_type": "stream",
     "text": [
      "<class 'pandas.core.frame.DataFrame'>\n",
      "Int64Index: 905513 entries, 0 to 905512\n",
      "Data columns (total 4 columns):\n",
      "spillID      905513 non-null int64\n",
      "name         905513 non-null object\n",
      "value        905513 non-null float64\n",
      "targetPos    905513 non-null int64\n",
      "dtypes: float64(1), int64(2), object(1)"
     ]
    }
   ],
   "source": [
    "# Cast as float\n",
    "data_df[['value']] = data_df[['value']].astype(float); data_df.info()"
   ]
  },
  {
   "cell_type": "markdown",
   "metadata": {},
   "source": [
    "## Clean the Data by removing entries that correspond to *Bad Spills*\n",
    "There are several criteria by which we classify a 5-second spill of data to be un-analyzable or irregular. Let's exclude those."
   ]
  },
  {
   "cell_type": "code",
   "execution_count": 32,
   "metadata": {
    "collapsed": false
   },
   "outputs": [],
   "source": [
    "try:\n",
    "    # See if this has already been populated\n",
    "    bad_spill_set\n",
    "except:\n",
    "    # Get the set of bad (non-sense) spills for this data\n",
    "    bad_spill_set = get_bad_spills(server, schema)\n",
    "    \n",
    "# Get rid of entries that correspond to bad spills\n",
    "data_df = data_df.query('spillID not in bad_spill_set')"
   ]
  },
  {
   "cell_type": "markdown",
   "metadata": {},
   "source": [
    "## Explore Visually"
   ]
  },
  {
   "cell_type": "code",
   "execution_count": 41,
   "metadata": {
    "collapsed": false
   },
   "outputs": [
    {
     "name": "stdout",
     "output_type": "stream",
     "text": [
      "89 unique features\n"
     ]
    }
   ],
   "source": [
    "# How many features are we working with here?\n",
    "value_names = data_df.name.unique()\n",
    "print len(value_names), \"unique features\""
   ]
  },
  {
   "cell_type": "code",
   "execution_count": 43,
   "metadata": {
    "collapsed": false
   },
   "outputs": [
    {
     "data": {
      "image/png": "[encoded data removed]",
      "text/plain": [
       "<matplotlib.figure.Figure at 0x7f1ac2e45210>"
      ]
     },
     "metadata": {},
     "output_type": "display_data"
    }
   ],
   "source": [
    "# Take a look at the first four\n",
    "fig, axes = plt.subplots(nrows=2, ncols=2, figsize=(12,12))\n",
    "index = 0\n",
    "for value_name in value_names[:4]:\n",
    "    subset_df = data_df[(scaler_df.name == value_name)]\n",
    "    axis = axes[floor(index/2),index%2]\n",
    "    sns.violinplot(subset_df.value,              # We want to inspect the feature\n",
    "                   subset_df.targetPos,          #   the distributions, and how they\n",
    "                   color=\"Paired\",               #   differ for each target position.\n",
    "                   bw=0.7,                       # The side-by-side, normalized nature \n",
    "                   ax=axis)                      #   of violin plots are ideal for this.  \n",
    "    axis.set_title(value_name)\n",
    "    axis.set_xlabel('Target Position', fontsize=20)\n",
    "    axis.set_ylabel('Value', fontsize=20)\n",
    "    index = index + 1\n",
    "    \n",
    "fig.subplots_adjust(hspace=0.4, wspace=0.4)\n",
    "plt.show()"
   ]
  },
  {
   "cell_type": "markdown",
   "metadata": {},
   "source": [
    "## Clean the Data some more\n",
    "### *Feature Exclusion*\n",
    "\n",
    "1. Pivot the dataframe\n",
    "2. Eliminate rows with missing data\n",
    "3. Inspect the means and standard deviations\n",
    "4. Identify the *zero standard deviation* features, as they're not helpful\n",
    "5. Remove them from our pivoted dataframe and our scaler_df dataset"
   ]
  },
  {
   "cell_type": "code",
   "execution_count": 44,
   "metadata": {
    "collapsed": false
   },
   "outputs": [
    {
     "data": {
      "text/html": [
       "<div style=\"max-height:1000px;max-width:1500px;overflow:auto;\">\n",
       "<table border=\"1\" class=\"dataframe\">\n",
       "  <thead>\n",
       "    <tr style=\"text-align: right;\">\n",
       "      <th>name</th>\n",
       "      <th>AcceptedBOS</th>\n",
       "      <th>AcceptedEOS</th>\n",
       "      <th>AcceptedMATRIX1</th>\n",
       "      <th>AcceptedMATRIX2</th>\n",
       "      <th>AcceptedMATRIX3</th>\n",
       "      <th>AcceptedMATRIX4</th>\n",
       "      <th>AcceptedMATRIX5</th>\n",
       "      <th>AcceptedNIM1</th>\n",
       "      <th>AcceptedNIM2</th>\n",
       "      <th>AcceptedNIM3</th>\n",
       "      <th>AcceptedNIM4</th>\n",
       "      <th>AcceptedNIM5</th>\n",
       "      <th>AfterInhMATRIX1</th>\n",
       "      <th>AfterInhMATRIX2</th>\n",
       "      <th>AfterInhMATRIX3</th>\n",
       "      <th>AfterInhMATRIX4</th>\n",
       "      <th>AfterInhMATRIX5</th>\n",
       "      <th>AfterInhNIM1</th>\n",
       "      <th>AfterInhNIM2</th>\n",
       "      <th>E:M2C2HF</th>\n",
       "      <th></th>\n",
       "    </tr>\n",
       "    <tr>\n",
       "      <th>spillID</th>\n",
       "      <th></th>\n",
       "      <th></th>\n",
       "      <th></th>\n",
       "      <th></th>\n",
       "      <th></th>\n",
       "      <th></th>\n",
       "      <th></th>\n",
       "      <th></th>\n",
       "      <th></th>\n",
       "      <th></th>\n",
       "      <th></th>\n",
       "      <th></th>\n",
       "      <th></th>\n",
       "      <th></th>\n",
       "      <th></th>\n",
       "      <th></th>\n",
       "      <th></th>\n",
       "      <th></th>\n",
       "      <th></th>\n",
       "      <th></th>\n",
       "    </tr>\n",
       "  </thead>\n",
       "  <tbody>\n",
       "    <tr>\n",
       "      <th>370239</th>\n",
       "      <td> 0</td>\n",
       "      <td> 1</td>\n",
       "      <td> 4535</td>\n",
       "      <td> 0</td>\n",
       "      <td> 44</td>\n",
       "      <td> 30</td>\n",
       "      <td> 29</td>\n",
       "      <td> 47</td>\n",
       "      <td> 0</td>\n",
       "      <td> 16</td>\n",
       "      <td> 0</td>\n",
       "      <td> 0</td>\n",
       "      <td> 10252</td>\n",
       "      <td> 248696</td>\n",
       "      <td> 10652</td>\n",
       "      <td> 1150180</td>\n",
       "      <td> 108362</td>\n",
       "      <td> 1867852</td>\n",
       "      <td> 452984</td>\n",
       "      <td> 0.571946</td>\n",
       "      <td>...</td>\n",
       "    </tr>\n",
       "    <tr>\n",
       "      <th>370240</th>\n",
       "      <td> 0</td>\n",
       "      <td> 1</td>\n",
       "      <td> 3475</td>\n",
       "      <td> 0</td>\n",
       "      <td> 30</td>\n",
       "      <td> 19</td>\n",
       "      <td> 21</td>\n",
       "      <td> 42</td>\n",
       "      <td> 0</td>\n",
       "      <td> 16</td>\n",
       "      <td> 0</td>\n",
       "      <td> 0</td>\n",
       "      <td>  6388</td>\n",
       "      <td> 195771</td>\n",
       "      <td>  6522</td>\n",
       "      <td>  884948</td>\n",
       "      <td>  77742</td>\n",
       "      <td> 1741208</td>\n",
       "      <td> 420440</td>\n",
       "      <td> 0.573434</td>\n",
       "      <td>...</td>\n",
       "    </tr>\n",
       "    <tr>\n",
       "      <th>370241</th>\n",
       "      <td> 0</td>\n",
       "      <td> 1</td>\n",
       "      <td> 4887</td>\n",
       "      <td> 0</td>\n",
       "      <td> 40</td>\n",
       "      <td> 27</td>\n",
       "      <td> 22</td>\n",
       "      <td> 51</td>\n",
       "      <td> 0</td>\n",
       "      <td> 15</td>\n",
       "      <td> 0</td>\n",
       "      <td> 0</td>\n",
       "      <td> 13116</td>\n",
       "      <td> 463265</td>\n",
       "      <td> 13599</td>\n",
       "      <td> 1171731</td>\n",
       "      <td> 121871</td>\n",
       "      <td> 1857601</td>\n",
       "      <td> 478681</td>\n",
       "      <td> 0.552720</td>\n",
       "      <td>...</td>\n",
       "    </tr>\n",
       "    <tr>\n",
       "      <th>370242</th>\n",
       "      <td> 0</td>\n",
       "      <td> 1</td>\n",
       "      <td> 5278</td>\n",
       "      <td> 0</td>\n",
       "      <td> 37</td>\n",
       "      <td> 30</td>\n",
       "      <td> 28</td>\n",
       "      <td> 46</td>\n",
       "      <td> 0</td>\n",
       "      <td> 11</td>\n",
       "      <td> 0</td>\n",
       "      <td> 0</td>\n",
       "      <td> 13786</td>\n",
       "      <td> 405583</td>\n",
       "      <td> 14237</td>\n",
       "      <td> 1199214</td>\n",
       "      <td> 127134</td>\n",
       "      <td> 1913108</td>\n",
       "      <td> 522911</td>\n",
       "      <td> 0.551332</td>\n",
       "      <td>...</td>\n",
       "    </tr>\n",
       "    <tr>\n",
       "      <th>370243</th>\n",
       "      <td> 0</td>\n",
       "      <td> 1</td>\n",
       "      <td> 5066</td>\n",
       "      <td> 0</td>\n",
       "      <td> 42</td>\n",
       "      <td> 30</td>\n",
       "      <td> 23</td>\n",
       "      <td> 45</td>\n",
       "      <td> 0</td>\n",
       "      <td> 18</td>\n",
       "      <td> 0</td>\n",
       "      <td> 0</td>\n",
       "      <td> 13237</td>\n",
       "      <td> 357095</td>\n",
       "      <td> 13768</td>\n",
       "      <td> 1221472</td>\n",
       "      <td> 125990</td>\n",
       "      <td> 1952682</td>\n",
       "      <td> 510225</td>\n",
       "      <td> 0.545397</td>\n",
       "      <td>...</td>\n",
       "    </tr>\n",
       "  </tbody>\n",
       "</table>\n",
       "<p>5 rows × 89 columns</p>\n",
       "</div>"
      ],
      "text/plain": [
       "name     AcceptedBOS  AcceptedEOS  AcceptedMATRIX1  AcceptedMATRIX2  \\\n",
       "spillID                                                               \n",
       "370239             0            1             4535                0   \n",
       "370240             0            1             3475                0   \n",
       "370241             0            1             4887                0   \n",
       "370242             0            1             5278                0   \n",
       "370243             0            1             5066                0   \n",
       "\n",
       "name     AcceptedMATRIX3  AcceptedMATRIX4  AcceptedMATRIX5  AcceptedNIM1  \\\n",
       "spillID                                                                    \n",
       "370239                44               30               29            47   \n",
       "370240                30               19               21            42   \n",
       "370241                40               27               22            51   \n",
       "370242                37               30               28            46   \n",
       "370243                42               30               23            45   \n",
       "\n",
       "name     AcceptedNIM2  AcceptedNIM3  AcceptedNIM4  AcceptedNIM5  \\\n",
       "spillID                                                           \n",
       "370239              0            16             0             0   \n",
       "370240              0            16             0             0   \n",
       "370241              0            15             0             0   \n",
       "370242              0            11             0             0   \n",
       "370243              0            18             0             0   \n",
       "\n",
       "name     AfterInhMATRIX1  AfterInhMATRIX2  AfterInhMATRIX3  AfterInhMATRIX4  \\\n",
       "spillID                                                                       \n",
       "370239             10252           248696            10652          1150180   \n",
       "370240              6388           195771             6522           884948   \n",
       "370241             13116           463265            13599          1171731   \n",
       "370242             13786           405583            14237          1199214   \n",
       "370243             13237           357095            13768          1221472   \n",
       "\n",
       "name     AfterInhMATRIX5  AfterInhNIM1  AfterInhNIM2  E:M2C2HF      \n",
       "spillID                                                             \n",
       "370239            108362       1867852        452984  0.571946 ...  \n",
       "370240             77742       1741208        420440  0.573434 ...  \n",
       "370241            121871       1857601        478681  0.552720 ...  \n",
       "370242            127134       1913108        522911  0.551332 ...  \n",
       "370243            125990       1952682        510225  0.545397 ...  \n",
       "\n",
       "[5 rows x 89 columns]"
      ]
     },
     "execution_count": 44,
     "metadata": {},
     "output_type": "execute_result"
    }
   ],
   "source": [
    "# We want to see our scalerNames as column indexes\n",
    "pivoted_df = data_df.pivot('spillID', 'name', 'value'); pivoted_df.head()"
   ]
  },
  {
   "cell_type": "markdown",
   "metadata": {},
   "source": [
    "### Handle missing data"
   ]
  },
  {
   "cell_type": "code",
   "execution_count": 45,
   "metadata": {
    "collapsed": false
   },
   "outputs": [],
   "source": [
    "# Replace sentinel values with NaN's and then drop those rows\n",
    "pivoted_df = pivoted_df.replace(-9999,np.nan).dropna(axis=0,how='any')"
   ]
  },
  {
   "cell_type": "code",
   "execution_count": 47,
   "metadata": {
    "collapsed": false
   },
   "outputs": [
    {
     "data": {
      "text/html": [
       "<div style=\"max-height:1000px;max-width:1500px;overflow:auto;\">\n",
       "<table border=\"1\" class=\"dataframe\">\n",
       "  <thead>\n",
       "    <tr style=\"text-align: right;\">\n",
       "      <th>name</th>\n",
       "      <th>AcceptedBOS</th>\n",
       "      <th>AcceptedEOS</th>\n",
       "      <th>AcceptedMATRIX1</th>\n",
       "      <th>AcceptedMATRIX2</th>\n",
       "      <th>AcceptedMATRIX3</th>\n",
       "      <th>AcceptedMATRIX4</th>\n",
       "      <th>AcceptedMATRIX5</th>\n",
       "      <th>AcceptedNIM1</th>\n",
       "      <th>AcceptedNIM2</th>\n",
       "      <th>AcceptedNIM3</th>\n",
       "      <th>AcceptedNIM4</th>\n",
       "      <th>AcceptedNIM5</th>\n",
       "      <th>AfterInhMATRIX1</th>\n",
       "      <th>AfterInhMATRIX2</th>\n",
       "      <th>AfterInhMATRIX3</th>\n",
       "      <th>AfterInhMATRIX4</th>\n",
       "      <th>AfterInhMATRIX5</th>\n",
       "      <th>AfterInhNIM1</th>\n",
       "      <th>AfterInhNIM2</th>\n",
       "      <th>E:M2C2HF</th>\n",
       "      <th></th>\n",
       "    </tr>\n",
       "  </thead>\n",
       "  <tbody>\n",
       "    <tr>\n",
       "      <th>count</th>\n",
       "      <td> 8379</td>\n",
       "      <td> 8379</td>\n",
       "      <td> 8379.000000</td>\n",
       "      <td> 8379</td>\n",
       "      <td> 8379.000000</td>\n",
       "      <td> 8379.000000</td>\n",
       "      <td> 8379.000000</td>\n",
       "      <td> 8379.000000</td>\n",
       "      <td> 8379</td>\n",
       "      <td> 8379.000000</td>\n",
       "      <td> 8379</td>\n",
       "      <td> 8379</td>\n",
       "      <td>  8379.000000</td>\n",
       "      <td>    8379.000000</td>\n",
       "      <td>  8379.000000</td>\n",
       "      <td>    8379.000000</td>\n",
       "      <td>   8379.000000</td>\n",
       "      <td>    8379.000000</td>\n",
       "      <td>   8379.000000</td>\n",
       "      <td> 8379.000000</td>\n",
       "      <td>...</td>\n",
       "    </tr>\n",
       "    <tr>\n",
       "      <th>mean</th>\n",
       "      <td>    0</td>\n",
       "      <td>    1</td>\n",
       "      <td> 4207.386681</td>\n",
       "      <td>    0</td>\n",
       "      <td>   35.010264</td>\n",
       "      <td>   22.136293</td>\n",
       "      <td>   19.863946</td>\n",
       "      <td>   40.451605</td>\n",
       "      <td>    0</td>\n",
       "      <td>   15.124478</td>\n",
       "      <td>    0</td>\n",
       "      <td>    0</td>\n",
       "      <td> 11038.188686</td>\n",
       "      <td>  364859.216852</td>\n",
       "      <td> 11283.310658</td>\n",
       "      <td> 1028080.093448</td>\n",
       "      <td> 102018.089271</td>\n",
       "      <td> 1856482.317341</td>\n",
       "      <td> 569292.900107</td>\n",
       "      <td>    0.567025</td>\n",
       "      <td>...</td>\n",
       "    </tr>\n",
       "    <tr>\n",
       "      <th>std</th>\n",
       "      <td>    0</td>\n",
       "      <td>    0</td>\n",
       "      <td>  983.457917</td>\n",
       "      <td>    0</td>\n",
       "      <td>    9.396857</td>\n",
       "      <td>    4.560832</td>\n",
       "      <td>    5.160620</td>\n",
       "      <td>    4.883009</td>\n",
       "      <td>    0</td>\n",
       "      <td>    1.937960</td>\n",
       "      <td>    0</td>\n",
       "      <td>    0</td>\n",
       "      <td>  3017.358742</td>\n",
       "      <td>  146634.538461</td>\n",
       "      <td>  3091.114047</td>\n",
       "      <td>  129383.136403</td>\n",
       "      <td>  20213.113718</td>\n",
       "      <td>  117852.793043</td>\n",
       "      <td>  95222.695618</td>\n",
       "      <td>    0.053421</td>\n",
       "      <td>...</td>\n",
       "    </tr>\n",
       "    <tr>\n",
       "      <th>min</th>\n",
       "      <td>    0</td>\n",
       "      <td>    1</td>\n",
       "      <td> 2281.000000</td>\n",
       "      <td>    0</td>\n",
       "      <td>   12.000000</td>\n",
       "      <td>    8.000000</td>\n",
       "      <td>    5.000000</td>\n",
       "      <td>   21.000000</td>\n",
       "      <td>    0</td>\n",
       "      <td>    7.000000</td>\n",
       "      <td>    0</td>\n",
       "      <td>    0</td>\n",
       "      <td>  4424.000000</td>\n",
       "      <td>  102186.000000</td>\n",
       "      <td>  4366.000000</td>\n",
       "      <td>  678475.000000</td>\n",
       "      <td>  58916.000000</td>\n",
       "      <td> 1319894.000000</td>\n",
       "      <td> 335160.000000</td>\n",
       "      <td>    0.485984</td>\n",
       "      <td>...</td>\n",
       "    </tr>\n",
       "    <tr>\n",
       "      <th>25%</th>\n",
       "      <td>    0</td>\n",
       "      <td>    1</td>\n",
       "      <td> 3515.000000</td>\n",
       "      <td>    0</td>\n",
       "      <td>   28.000000</td>\n",
       "      <td>   19.000000</td>\n",
       "      <td>   16.000000</td>\n",
       "      <td>   37.000000</td>\n",
       "      <td>    0</td>\n",
       "      <td>   14.000000</td>\n",
       "      <td>    0</td>\n",
       "      <td>    0</td>\n",
       "      <td>  8940.000000</td>\n",
       "      <td>  261979.500000</td>\n",
       "      <td>  9136.500000</td>\n",
       "      <td>  939137.500000</td>\n",
       "      <td>  89130.500000</td>\n",
       "      <td> 1776475.000000</td>\n",
       "      <td> 494158.500000</td>\n",
       "      <td>    0.551347</td>\n",
       "      <td>...</td>\n",
       "    </tr>\n",
       "    <tr>\n",
       "      <th>50%</th>\n",
       "      <td>    0</td>\n",
       "      <td>    1</td>\n",
       "      <td> 3991.000000</td>\n",
       "      <td>    0</td>\n",
       "      <td>   34.000000</td>\n",
       "      <td>   22.000000</td>\n",
       "      <td>   20.000000</td>\n",
       "      <td>   41.000000</td>\n",
       "      <td>    0</td>\n",
       "      <td>   15.000000</td>\n",
       "      <td>    0</td>\n",
       "      <td>    0</td>\n",
       "      <td> 10511.000000</td>\n",
       "      <td>  339106.000000</td>\n",
       "      <td> 10757.000000</td>\n",
       "      <td> 1013676.000000</td>\n",
       "      <td>  99813.000000</td>\n",
       "      <td> 1851160.000000</td>\n",
       "      <td> 565664.000000</td>\n",
       "      <td>    0.562292</td>\n",
       "      <td>...</td>\n",
       "    </tr>\n",
       "    <tr>\n",
       "      <th>75%</th>\n",
       "      <td>    0</td>\n",
       "      <td>    1</td>\n",
       "      <td> 4725.500000</td>\n",
       "      <td>    0</td>\n",
       "      <td>   40.000000</td>\n",
       "      <td>   25.000000</td>\n",
       "      <td>   23.000000</td>\n",
       "      <td>   44.000000</td>\n",
       "      <td>    0</td>\n",
       "      <td>   16.000000</td>\n",
       "      <td>    0</td>\n",
       "      <td>    0</td>\n",
       "      <td> 12802.000000</td>\n",
       "      <td>  432536.000000</td>\n",
       "      <td> 13095.500000</td>\n",
       "      <td> 1109031.500000</td>\n",
       "      <td> 112803.500000</td>\n",
       "      <td> 1941813.000000</td>\n",
       "      <td> 638860.500000</td>\n",
       "      <td>    0.574834</td>\n",
       "      <td>...</td>\n",
       "    </tr>\n",
       "    <tr>\n",
       "      <th>max</th>\n",
       "      <td>    0</td>\n",
       "      <td>    1</td>\n",
       "      <td> 7783.000000</td>\n",
       "      <td>    0</td>\n",
       "      <td>   76.000000</td>\n",
       "      <td>   40.000000</td>\n",
       "      <td>   73.000000</td>\n",
       "      <td>   58.000000</td>\n",
       "      <td>    0</td>\n",
       "      <td>   20.000000</td>\n",
       "      <td>    0</td>\n",
       "      <td>    0</td>\n",
       "      <td> 29266.000000</td>\n",
       "      <td> 1918262.000000</td>\n",
       "      <td> 29596.000000</td>\n",
       "      <td> 1596577.000000</td>\n",
       "      <td> 398270.000000</td>\n",
       "      <td> 2425823.000000</td>\n",
       "      <td> 887760.000000</td>\n",
       "      <td>    1.535497</td>\n",
       "      <td>...</td>\n",
       "    </tr>\n",
       "  </tbody>\n",
       "</table>\n",
       "<p>8 rows × 89 columns</p>\n",
       "</div>"
      ],
      "text/plain": [
       "name   AcceptedBOS  AcceptedEOS  AcceptedMATRIX1  AcceptedMATRIX2  \\\n",
       "count         8379         8379      8379.000000             8379   \n",
       "mean             0            1      4207.386681                0   \n",
       "std              0            0       983.457917                0   \n",
       "min              0            1      2281.000000                0   \n",
       "25%              0            1      3515.000000                0   \n",
       "50%              0            1      3991.000000                0   \n",
       "75%              0            1      4725.500000                0   \n",
       "max              0            1      7783.000000                0   \n",
       "\n",
       "name   AcceptedMATRIX3  AcceptedMATRIX4  AcceptedMATRIX5  AcceptedNIM1  \\\n",
       "count      8379.000000      8379.000000      8379.000000   8379.000000   \n",
       "mean         35.010264        22.136293        19.863946     40.451605   \n",
       "std           9.396857         4.560832         5.160620      4.883009   \n",
       "min          12.000000         8.000000         5.000000     21.000000   \n",
       "25%          28.000000        19.000000        16.000000     37.000000   \n",
       "50%          34.000000        22.000000        20.000000     41.000000   \n",
       "75%          40.000000        25.000000        23.000000     44.000000   \n",
       "max          76.000000        40.000000        73.000000     58.000000   \n",
       "\n",
       "name   AcceptedNIM2  AcceptedNIM3  AcceptedNIM4  AcceptedNIM5  \\\n",
       "count          8379   8379.000000          8379          8379   \n",
       "mean              0     15.124478             0             0   \n",
       "std               0      1.937960             0             0   \n",
       "min               0      7.000000             0             0   \n",
       "25%               0     14.000000             0             0   \n",
       "50%               0     15.000000             0             0   \n",
       "75%               0     16.000000             0             0   \n",
       "max               0     20.000000             0             0   \n",
       "\n",
       "name   AfterInhMATRIX1  AfterInhMATRIX2  AfterInhMATRIX3  AfterInhMATRIX4  \\\n",
       "count      8379.000000      8379.000000      8379.000000      8379.000000   \n",
       "mean      11038.188686    364859.216852     11283.310658   1028080.093448   \n",
       "std        3017.358742    146634.538461      3091.114047    129383.136403   \n",
       "min        4424.000000    102186.000000      4366.000000    678475.000000   \n",
       "25%        8940.000000    261979.500000      9136.500000    939137.500000   \n",
       "50%       10511.000000    339106.000000     10757.000000   1013676.000000   \n",
       "75%       12802.000000    432536.000000     13095.500000   1109031.500000   \n",
       "max       29266.000000   1918262.000000     29596.000000   1596577.000000   \n",
       "\n",
       "name   AfterInhMATRIX5    AfterInhNIM1   AfterInhNIM2     E:M2C2HF      \n",
       "count      8379.000000     8379.000000    8379.000000  8379.000000 ...  \n",
       "mean     102018.089271  1856482.317341  569292.900107     0.567025 ...  \n",
       "std       20213.113718   117852.793043   95222.695618     0.053421 ...  \n",
       "min       58916.000000  1319894.000000  335160.000000     0.485984 ...  \n",
       "25%       89130.500000  1776475.000000  494158.500000     0.551347 ...  \n",
       "50%       99813.000000  1851160.000000  565664.000000     0.562292 ...  \n",
       "75%      112803.500000  1941813.000000  638860.500000     0.574834 ...  \n",
       "max      398270.000000  2425823.000000  887760.000000     1.535497 ...  \n",
       "\n",
       "[8 rows x 89 columns]"
      ]
     },
     "execution_count": 47,
     "metadata": {},
     "output_type": "execute_result"
    }
   ],
   "source": [
    "# We take a peek to see what the values in each look like overall\n",
    "pivoted_df.describe()"
   ]
  },
  {
   "cell_type": "markdown",
   "metadata": {},
   "source": [
    "### Identify *zero standard deviation* features"
   ]
  },
  {
   "cell_type": "code",
   "execution_count": 48,
   "metadata": {
    "collapsed": false
   },
   "outputs": [
    {
     "data": {
      "text/plain": [
       "array(['AcceptedBOS', 'AcceptedEOS', 'AcceptedMATRIX2', 'AcceptedNIM2',\n",
       "       'AcceptedNIM4', 'AcceptedNIM5', 'E:M3TGHF', 'E:M3TGHI', 'E:M3TGVF',\n",
       "       'E:M3TGVI', 'G:BNCH13', 'G:NBSYD', 'NM3ION', 'PrescaleMATRIX2',\n",
       "       'PrescaleNIM2', 'PrescaleNIM4', 'PrescaleNIM5', 'PrescaledBOS',\n",
       "       'PrescaledEOS'], dtype=object)"
      ]
     },
     "execution_count": 48,
     "metadata": {},
     "output_type": "execute_result"
    }
   ],
   "source": [
    "# It's sufficient to say that if the standard deviation is 0, then it's certainly not useful\n",
    "zero_std_series = (pivoted_df.describe().ix['std'] == 0)\n",
    "# Get an array of all the features with zero standard deviations\n",
    "zero_std_features = zero_std_series[zero_std_series == True].index.values; zero_std_features"
   ]
  },
  {
   "cell_type": "markdown",
   "metadata": {},
   "source": [
    "### Remove these from our analysis"
   ]
  },
  {
   "cell_type": "code",
   "execution_count": 49,
   "metadata": {
    "collapsed": false
   },
   "outputs": [],
   "source": [
    "# Get rid of these features\n",
    "_ = pivoted_df.drop(zero_std_features, axis=1, inplace=True)"
   ]
  },
  {
   "cell_type": "markdown",
   "metadata": {},
   "source": [
    "# Assemble Cleaned, Processed Data\n",
    "### With data and labels, so that it's well-suited to be fed to our RFC"
   ]
  },
  {
   "cell_type": "code",
   "execution_count": 59,
   "metadata": {
    "collapsed": false
   },
   "outputs": [
    {
     "data": {
      "text/html": [
       "<div style=\"max-height:1000px;max-width:1500px;overflow:auto;\">\n",
       "<table border=\"1\" class=\"dataframe\">\n",
       "  <thead>\n",
       "    <tr style=\"text-align: right;\">\n",
       "      <th></th>\n",
       "      <th>spillID</th>\n",
       "      <th>targetPos</th>\n",
       "    </tr>\n",
       "  </thead>\n",
       "  <tbody>\n",
       "    <tr>\n",
       "      <th>363308</th>\n",
       "      <td> 370239</td>\n",
       "      <td> 5</td>\n",
       "    </tr>\n",
       "    <tr>\n",
       "      <th>363352</th>\n",
       "      <td> 370240</td>\n",
       "      <td> 4</td>\n",
       "    </tr>\n",
       "    <tr>\n",
       "      <th>363396</th>\n",
       "      <td> 370241</td>\n",
       "      <td> 3</td>\n",
       "    </tr>\n",
       "    <tr>\n",
       "      <th>363440</th>\n",
       "      <td> 370242</td>\n",
       "      <td> 3</td>\n",
       "    </tr>\n",
       "    <tr>\n",
       "      <th>363484</th>\n",
       "      <td> 370243</td>\n",
       "      <td> 3</td>\n",
       "    </tr>\n",
       "  </tbody>\n",
       "</table>\n",
       "<p>5 rows × 2 columns</p>\n",
       "</div>"
      ],
      "text/plain": [
       "        spillID  targetPos\n",
       "363308   370239          5\n",
       "363352   370240          4\n",
       "363396   370241          3\n",
       "363440   370242          3\n",
       "363484   370243          3\n",
       "\n",
       "[5 rows x 2 columns]"
      ]
     },
     "execution_count": 59,
     "metadata": {},
     "output_type": "execute_result"
    }
   ],
   "source": [
    "# Let's prepare the lables, or, our target positions\n",
    "targpos_df = data_df[['spillID','targetPos']].drop_duplicates().sort('spillID')\n",
    "targpos_df.head()"
   ]
  },
  {
   "cell_type": "markdown",
   "metadata": {},
   "source": [
    "### Merge the data with the labels"
   ]
  },
  {
   "cell_type": "code",
   "execution_count": 63,
   "metadata": {
    "collapsed": false
   },
   "outputs": [],
   "source": [
    "full_df = pd.merge(pivoted_df, targpos_df, how='left', right_on='spillID', left_index=True)"
   ]
  },
  {
   "cell_type": "code",
   "execution_count": 64,
   "metadata": {
    "collapsed": false
   },
   "outputs": [
    {
     "data": {
      "text/html": [
       "<div style=\"max-height:1000px;max-width:1500px;overflow:auto;\">\n",
       "<table border=\"1\" class=\"dataframe\">\n",
       "  <thead>\n",
       "    <tr style=\"text-align: right;\">\n",
       "      <th></th>\n",
       "      <th>AcceptedMATRIX1</th>\n",
       "      <th>AcceptedMATRIX3</th>\n",
       "      <th>AcceptedMATRIX4</th>\n",
       "      <th>AcceptedMATRIX5</th>\n",
       "      <th>AcceptedNIM1</th>\n",
       "      <th>AcceptedNIM3</th>\n",
       "      <th>AfterInhMATRIX1</th>\n",
       "      <th>AfterInhMATRIX2</th>\n",
       "      <th>AfterInhMATRIX3</th>\n",
       "      <th>AfterInhMATRIX4</th>\n",
       "      <th>AfterInhMATRIX5</th>\n",
       "      <th>AfterInhNIM1</th>\n",
       "      <th>AfterInhNIM2</th>\n",
       "      <th>E:M2C2HF</th>\n",
       "      <th>E:M2C2HI</th>\n",
       "      <th>E:M2C2HM</th>\n",
       "      <th>E:M2C2HS</th>\n",
       "      <th>E:M2C2VF</th>\n",
       "      <th>E:M2C2VI</th>\n",
       "      <th>E:M2C2VM</th>\n",
       "      <th></th>\n",
       "    </tr>\n",
       "    <tr>\n",
       "      <th>spillID</th>\n",
       "      <th></th>\n",
       "      <th></th>\n",
       "      <th></th>\n",
       "      <th></th>\n",
       "      <th></th>\n",
       "      <th></th>\n",
       "      <th></th>\n",
       "      <th></th>\n",
       "      <th></th>\n",
       "      <th></th>\n",
       "      <th></th>\n",
       "      <th></th>\n",
       "      <th></th>\n",
       "      <th></th>\n",
       "      <th></th>\n",
       "      <th></th>\n",
       "      <th></th>\n",
       "      <th></th>\n",
       "      <th></th>\n",
       "      <th></th>\n",
       "    </tr>\n",
       "  </thead>\n",
       "  <tbody>\n",
       "    <tr>\n",
       "      <th>370239</th>\n",
       "      <td> 4535</td>\n",
       "      <td> 44</td>\n",
       "      <td> 30</td>\n",
       "      <td> 29</td>\n",
       "      <td> 47</td>\n",
       "      <td> 16</td>\n",
       "      <td> 10252</td>\n",
       "      <td> 248696</td>\n",
       "      <td> 10652</td>\n",
       "      <td> 1150180</td>\n",
       "      <td> 108362</td>\n",
       "      <td> 1867852</td>\n",
       "      <td> 452984</td>\n",
       "      <td> 0.571946</td>\n",
       "      <td> 24901</td>\n",
       "      <td>-0.301292</td>\n",
       "      <td> 13.714303</td>\n",
       "      <td> 0.605016</td>\n",
       "      <td> 23733.0</td>\n",
       "      <td>-0.398539</td>\n",
       "      <td>...</td>\n",
       "    </tr>\n",
       "    <tr>\n",
       "      <th>370240</th>\n",
       "      <td> 3475</td>\n",
       "      <td> 30</td>\n",
       "      <td> 19</td>\n",
       "      <td> 21</td>\n",
       "      <td> 42</td>\n",
       "      <td> 16</td>\n",
       "      <td>  6388</td>\n",
       "      <td> 195771</td>\n",
       "      <td>  6522</td>\n",
       "      <td>  884948</td>\n",
       "      <td>  77742</td>\n",
       "      <td> 1741208</td>\n",
       "      <td> 420440</td>\n",
       "      <td> 0.573434</td>\n",
       "      <td> 25201</td>\n",
       "      <td>-0.233265</td>\n",
       "      <td> 13.712535</td>\n",
       "      <td> 0.599452</td>\n",
       "      <td> 23843.0</td>\n",
       "      <td>-0.474459</td>\n",
       "      <td>...</td>\n",
       "    </tr>\n",
       "    <tr>\n",
       "      <th>370241</th>\n",
       "      <td> 4887</td>\n",
       "      <td> 40</td>\n",
       "      <td> 27</td>\n",
       "      <td> 22</td>\n",
       "      <td> 51</td>\n",
       "      <td> 15</td>\n",
       "      <td> 13116</td>\n",
       "      <td> 463265</td>\n",
       "      <td> 13599</td>\n",
       "      <td> 1171731</td>\n",
       "      <td> 121871</td>\n",
       "      <td> 1857601</td>\n",
       "      <td> 478681</td>\n",
       "      <td> 0.552720</td>\n",
       "      <td> 27120</td>\n",
       "      <td>-0.255346</td>\n",
       "      <td> 13.670285</td>\n",
       "      <td> 0.564557</td>\n",
       "      <td> 26146.5</td>\n",
       "      <td>-0.528761</td>\n",
       "      <td>...</td>\n",
       "    </tr>\n",
       "    <tr>\n",
       "      <th>370242</th>\n",
       "      <td> 5278</td>\n",
       "      <td> 37</td>\n",
       "      <td> 30</td>\n",
       "      <td> 28</td>\n",
       "      <td> 46</td>\n",
       "      <td> 11</td>\n",
       "      <td> 13786</td>\n",
       "      <td> 405583</td>\n",
       "      <td> 14237</td>\n",
       "      <td> 1199214</td>\n",
       "      <td> 127134</td>\n",
       "      <td> 1913108</td>\n",
       "      <td> 522911</td>\n",
       "      <td> 0.551332</td>\n",
       "      <td> 29977</td>\n",
       "      <td>-0.257547</td>\n",
       "      <td> 13.690655</td>\n",
       "      <td> 0.561861</td>\n",
       "      <td> 28908.0</td>\n",
       "      <td>-0.460461</td>\n",
       "      <td>...</td>\n",
       "    </tr>\n",
       "    <tr>\n",
       "      <th>370243</th>\n",
       "      <td> 5066</td>\n",
       "      <td> 42</td>\n",
       "      <td> 30</td>\n",
       "      <td> 23</td>\n",
       "      <td> 45</td>\n",
       "      <td> 18</td>\n",
       "      <td> 13237</td>\n",
       "      <td> 357095</td>\n",
       "      <td> 13768</td>\n",
       "      <td> 1221472</td>\n",
       "      <td> 125990</td>\n",
       "      <td> 1952682</td>\n",
       "      <td> 510225</td>\n",
       "      <td> 0.545397</td>\n",
       "      <td> 28514</td>\n",
       "      <td>-0.239988</td>\n",
       "      <td> 13.669893</td>\n",
       "      <td> 0.557419</td>\n",
       "      <td> 27544.5</td>\n",
       "      <td>-0.468559</td>\n",
       "      <td>...</td>\n",
       "    </tr>\n",
       "  </tbody>\n",
       "</table>\n",
       "<p>5 rows × 71 columns</p>\n",
       "</div>"
      ],
      "text/plain": [
       "         AcceptedMATRIX1  AcceptedMATRIX3  AcceptedMATRIX4  AcceptedMATRIX5  \\\n",
       "spillID                                                                       \n",
       "370239              4535               44               30               29   \n",
       "370240              3475               30               19               21   \n",
       "370241              4887               40               27               22   \n",
       "370242              5278               37               30               28   \n",
       "370243              5066               42               30               23   \n",
       "\n",
       "         AcceptedNIM1  AcceptedNIM3  AfterInhMATRIX1  AfterInhMATRIX2  \\\n",
       "spillID                                                                 \n",
       "370239             47            16            10252           248696   \n",
       "370240             42            16             6388           195771   \n",
       "370241             51            15            13116           463265   \n",
       "370242             46            11            13786           405583   \n",
       "370243             45            18            13237           357095   \n",
       "\n",
       "         AfterInhMATRIX3  AfterInhMATRIX4  AfterInhMATRIX5  AfterInhNIM1  \\\n",
       "spillID                                                                    \n",
       "370239             10652          1150180           108362       1867852   \n",
       "370240              6522           884948            77742       1741208   \n",
       "370241             13599          1171731           121871       1857601   \n",
       "370242             14237          1199214           127134       1913108   \n",
       "370243             13768          1221472           125990       1952682   \n",
       "\n",
       "         AfterInhNIM2  E:M2C2HF  E:M2C2HI  E:M2C2HM   E:M2C2HS  E:M2C2VF  \\\n",
       "spillID                                                                    \n",
       "370239         452984  0.571946     24901 -0.301292  13.714303  0.605016   \n",
       "370240         420440  0.573434     25201 -0.233265  13.712535  0.599452   \n",
       "370241         478681  0.552720     27120 -0.255346  13.670285  0.564557   \n",
       "370242         522911  0.551332     29977 -0.257547  13.690655  0.561861   \n",
       "370243         510225  0.545397     28514 -0.239988  13.669893  0.557419   \n",
       "\n",
       "         E:M2C2VI  E:M2C2VM      \n",
       "spillID                          \n",
       "370239    23733.0 -0.398539 ...  \n",
       "370240    23843.0 -0.474459 ...  \n",
       "370241    26146.5 -0.528761 ...  \n",
       "370242    28908.0 -0.460461 ...  \n",
       "370243    27544.5 -0.468559 ...  \n",
       "\n",
       "[5 rows x 71 columns]"
      ]
     },
     "execution_count": 64,
     "metadata": {},
     "output_type": "execute_result"
    }
   ],
   "source": [
    "full_df = full_df.set_index('spillID')\n",
    "full_df.head()"
   ]
  },
  {
   "cell_type": "markdown",
   "metadata": {},
   "source": [
    "## And here is our full data set in all its glory\n",
    "70 features, no NaN's, and no completely meaningless features (std dev != 0)"
   ]
  },
  {
   "cell_type": "code",
   "execution_count": 65,
   "metadata": {
    "collapsed": false
   },
   "outputs": [],
   "source": [
    "# Write it to file for use in the next part.\n",
    "full_df.to_csv('insight_demo_roadset59.csv')"
   ]
  },
  {
   "cell_type": "markdown",
   "metadata": {
    "collapsed": false
   },
   "source": [
    "# Create, Train Random Forest From Data"
   ]
  },
  {
   "cell_type": "code",
   "execution_count": 6,
   "metadata": {
    "collapsed": true
   },
   "outputs": [],
   "source": [
    "from sklearn.ensemble import RandomForestClassifier    \n",
    "from sklearn import cross_validation                   # We'll want to cross-validate our RF"
   ]
  },
  {
   "cell_type": "code",
   "execution_count": 7,
   "metadata": {
    "collapsed": true
   },
   "outputs": [],
   "source": [
    "# If the data is already written, and we're re-visiting, \n",
    "#    just load the prepared data here!\n",
    "full_df = pd.read_csv('insight_demo_roadset59.csv', index_col='spillID')"
   ]
  },
  {
   "cell_type": "code",
   "execution_count": 8,
   "metadata": {
    "collapsed": false
   },
   "outputs": [],
   "source": [
    "# Split the DataFrame up into 'data' and 'labels'\n",
    "labels = full_df[['targetPos']].values\n",
    "data = full_df.drop('targetPos', axis=1).values"
   ]
  },
  {
   "cell_type": "markdown",
   "metadata": {},
   "source": [
    "### Split our data up into training and test sets"
   ]
  },
  {
   "cell_type": "code",
   "execution_count": 71,
   "metadata": {
    "collapsed": false
   },
   "outputs": [],
   "source": [
    "d_train, d_test, l_train, l_test \\\n",
    "    = cross_validation.train_test_split(data, labels, test_size=0.25, random_state=2)"
   ]
  },
  {
   "cell_type": "markdown",
   "metadata": {},
   "source": [
    "### Create RFC instance"
   ]
  },
  {
   "cell_type": "code",
   "execution_count": 75,
   "metadata": {
    "collapsed": false
   },
   "outputs": [],
   "source": [
    "rfc = RandomForestClassifier(n_estimators=100, max_depth=None, max_features='sqrt',\n",
    "                             min_samples_split=1, random_state=2)"
   ]
  },
  {
   "cell_type": "markdown",
   "metadata": {},
   "source": [
    "### Train on training data"
   ]
  },
  {
   "cell_type": "code",
   "execution_count": 76,
   "metadata": {
    "collapsed": false
   },
   "outputs": [
    {
     "data": {
      "text/plain": [
       "RandomForestClassifier(bootstrap=True, compute_importances=None,\n",
       "            criterion='gini', max_depth=None, max_features='sqrt',\n",
       "            min_density=None, min_samples_leaf=1, min_samples_split=1,\n",
       "            n_estimators=1000, n_jobs=1, oob_score=False, random_state=2,\n",
       "            verbose=0)"
      ]
     },
     "execution_count": 76,
     "metadata": {},
     "output_type": "execute_result"
    }
   ],
   "source": [
    "rfc.fit(d_train, np.ravel(l_train))"
   ]
  },
  {
   "cell_type": "code",
   "execution_count": 79,
   "metadata": {
    "collapsed": false
   },
   "outputs": [
    {
     "name": "stdout",
     "output_type": "stream",
     "text": [
      "RF prediction accuracy =  80.1%\n"
     ]
    }
   ],
   "source": [
    "result = rfc.predict(d_test)\n",
    "\n",
    "print(\"RF prediction accuracy = {0:5.1f}%\".format(100.0 * rfc.score(d_test, l_test)))"
   ]
  },
  {
   "cell_type": "markdown",
   "metadata": {},
   "source": [
    "### Create a Confusion histogram to examine prediction performance"
   ]
  },
  {
   "cell_type": "code",
   "execution_count": 96,
   "metadata": {
    "collapsed": false
   },
   "outputs": [
    {
     "data": {
      "text/plain": [
       "<matplotlib.text.Text at 0x7f76b9b37ad0>"
      ]
     },
     "execution_count": 96,
     "metadata": {},
     "output_type": "execute_result"
    },
    {
     "data": {
      "image/png": "[encoded data removed]",
      "text/plain": [
       "<matplotlib.figure.Figure at 0x7f76ba013950>"
      ]
     },
     "metadata": {},
     "output_type": "display_data"
    }
   ],
   "source": [
    "sns.set_context(\"poster\")\n",
    "plt.figure(figsize=(12, 10))\n",
    "\n",
    "# Define names for the target positions\n",
    "names = ['1','2','3','4','5','6','7']\n",
    "\n",
    "# Make a 2D histogram from the test and result arrays\n",
    "pts, xe, ye = np.histogram2d(np.ravel(l_test), result, bins=7)\n",
    "\n",
    "# For simplicity we create a new DataFrame\n",
    "pd_pts = pd.DataFrame(pts.astype(int), index=names, columns=names )\n",
    "    \n",
    "# Display heatmap and add decorations\n",
    "hm = sns.heatmap(pd_pts, annot=True, fmt=\"d\")\n",
    "\n",
    "plt.xlabel(\"Actual\")\n",
    "plt.ylabel(\"Prediction\")"
   ]
  },
  {
   "cell_type": "code",
   "execution_count": 9,
   "metadata": {
    "collapsed": false
   },
   "outputs": [],
   "source": [
    "# Collapse target position 4 and 2 both into category 2\n",
    "labels[labels == 4] = 2"
   ]
  },
  {
   "cell_type": "code",
   "execution_count": 34,
   "metadata": {
    "collapsed": false
   },
   "outputs": [
    {
     "name": "stdout",
     "output_type": "stream",
     "text": [
      "RF prediction accuracy =  84.6%\n"
     ]
    },
    {
     "data": {
      "text/plain": [
       "<matplotlib.text.Text at 0x7fb8c98a2fd0>"
      ]
     },
     "execution_count": 34,
     "metadata": {},
     "output_type": "execute_result"
    },
    {
     "data": {
      "image/png": "[encoded data removed]",
      "text/plain": [
       "<matplotlib.figure.Figure at 0x7fb8c9d12bd0>"
      ]
     },
     "metadata": {},
     "output_type": "display_data"
    }
   ],
   "source": [
    "d_train, d_test, l_train, l_test \\\n",
    "    = cross_validation.train_test_split(data, labels, test_size=0.33, random_state=5)\n",
    "rfc = RandomForestClassifier(n_estimators=100, max_depth=None, max_features=None,\n",
    "                             min_samples_split=1, random_state=2)\n",
    "rfc.fit(d_train, np.ravel(l_train))\n",
    "result = rfc.predict(d_test)\n",
    "print(\"RF prediction accuracy = {0:5.1f}%\".format(100.0 * rfc.score(d_test, l_test)))\n",
    "\n",
    "plt.figure(figsize=(12, 10))\n",
    "pts, xe, ye = np.histogram2d(np.ravel(l_test), result, bins=7)\n",
    "pd_pts = pd.DataFrame(pts.astype(int), index=names, columns=names )\n",
    "hm = sns.heatmap(pd_pts, annot=True, fmt=\"d\")\n",
    "\n",
    "plt.xlabel(\"Actual\")\n",
    "plt.ylabel(\"Prediction\")"
   ]
  },
  {
   "cell_type": "markdown",
   "metadata": {},
   "source": [
    "## Per-target Accuracy"
   ]
  },
  {
   "cell_type": "code",
   "execution_count": 53,
   "metadata": {
    "collapsed": false
   },
   "outputs": [
    {
     "name": "stdout",
     "output_type": "stream",
     "text": [
      "Target Position 1: 78.3289817232%\n",
      "Target Position 2: 96.7654986523%\n",
      "Target Position 3: 96.383363472%\n",
      "Target Position 4: NA\n",
      "Target Position 5: 77.6315789474%\n",
      "Target Position 6: 81.5533980583%\n",
      "Target Position 7: 78.5714285714%\n"
     ]
    }
   ],
   "source": [
    "for i in range(0,7):\n",
    "    rowsum = np.sum(pts.T[i])\n",
    "    if rowsum>0:\n",
    "        print \"Target Position \" + str(i+1) + \": \" + str((pts[i][i] / np.sum(pts.T[i]))*100) + \"%\"\n",
    "    else:\n",
    "        print \"Target Position \" + str(i+1) + \": NA\""
   ]
  },
  {
   "cell_type": "markdown",
   "metadata": {},
   "source": [
    "# Most Valuable Features\n",
    "* Rank our top most valuable features"
   ]
  },
  {
   "cell_type": "code",
   "execution_count": 90,
   "metadata": {
    "collapsed": false
   },
   "outputs": [
    {
     "name": "stdout",
     "output_type": "stream",
     "text": [
      "Feature ranking:\n",
      "1. Feature 'AfterInhNIM1' (0.203815)\n",
      "2. Feature 'PrescaleNIM1' (0.112198)\n",
      "3. Feature 'G:RD3162' (0.087383)\n",
      "4. Feature 'RawNIM2' (0.061924)\n",
      "5. Feature 'F:NM2D1' (0.053094)\n",
      "6. Feature 'F:NM3RRT' (0.034308)\n",
      "7. Feature 'G:TURN13' (0.033138)\n",
      "8. Feature 'AfterInhMATRIX5' (0.029919)\n",
      "9. Feature 'AfterInhMATRIX4' (0.025836)\n",
      "10. Feature 'S:G2SEM' (0.018125)\n"
     ]
    }
   ],
   "source": [
    "features = full_df.drop('targetPos',axis=1).columns.values\n",
    "importances = rfc.feature_importances_\n",
    "std = np.std([rfc.feature_importances_ for tree in rfc.estimators_], axis=0)\n",
    "indices = np.argsort(importances)[::-1]\n",
    "\n",
    "# Print the feature ranking\n",
    "print(\"Feature ranking:\")\n",
    "\n",
    "useful_feature_list = []\n",
    "for f in range(10):\n",
    "    print(\"%d. Feature '%s' (%f)\" % (f + 1, features[indices[f]+1], importances[indices[f]]))\n",
    "    useful_feature_list.append(features[indices[f]+1])"
   ]
  },
  {
   "cell_type": "markdown",
   "metadata": {},
   "source": [
    "# Pickle our trained RFC for use in the field"
   ]
  },
  {
   "cell_type": "code",
   "execution_count": 85,
   "metadata": {
    "collapsed": true
   },
   "outputs": [],
   "source": [
    "from sklearn.externals import joblib"
   ]
  },
  {
   "cell_type": "code",
   "execution_count": 87,
   "metadata": {
    "collapsed": true
   },
   "outputs": [],
   "source": [
    "rfc_pickle_name = \"models/target_rfc_roadset59.pkl\"\n",
    "if not os.path.exists(rfc_pickle_name):\n",
    "    joblib.dump(rfc, rfc_pickle_name)\n",
    "else:\n",
    "    os.remove(rfc_pickle_name)\n",
    "    joblib.dump(rfc, rfc_pickle_name)"
   ]
  }
 ],
 "metadata": {
  "kernelspec": {
   "display_name": "Python 2",
   "language": "python",
   "name": "python2"
  },
  "language_info": {
   "codemirror_mode": {
    "name": "ipython",
    "version": 2
   },
   "file_extension": ".py",
   "mimetype": "text/x-python",
   "name": "python",
   "nbconvert_exporter": "python",
   "pygments_lexer": "ipython2",
   "version": "2.7.6"
  }
 },
 "nbformat": 4,
 "nbformat_minor": 0
}
