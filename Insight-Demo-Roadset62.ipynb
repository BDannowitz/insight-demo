{
 "cells": [
  {
   "cell_type": "markdown",
   "metadata": {},
   "source": [
    "# Classification of Target Position based on Ancillary Measurements\n",
    "### *Identifying our targets by what they \"sound\" like*\n",
    "\n",
    "by: Bryan Dannowitz\n",
    "\n",
    "### Problem:\n",
    "Our proton beam shoots at our *target table*. The table shifts back and forth, allowing us to hit one of seven targets. For a certain range of data, we're not 100% sure what our target position was. We want to be certain before we analyze it.\n",
    "\n",
    "### Objective:\n",
    "We have many (90+) readouts of esoteric measures like *trigger rates* and radiation levels. Here, I aggregate these readouts, exclude non-useful *features*, and train a *Random Forest Classifier* to predict our target position.\n",
    "\n",
    "### Procedure:\n",
    "1. Get a full readout of *features* from our MySQL storage\n",
    "2. Clean it up by removing entries from 'bad spills'\n",
    "3. Exclude any non-helpful *features*\n",
    "4. Train and test an RFC\n",
    "5. Pickle it for daily use at our experiment"
   ]
  },
  {
   "cell_type": "markdown",
   "metadata": {},
   "source": [
    "## Imports"
   ]
  },
  {
   "cell_type": "code",
   "execution_count": 16,
   "metadata": {
    "collapsed": true
   },
   "outputs": [],
   "source": [
    "import os                           # Check if files exist\n",
    "import sys                          # Import my own modules"
   ]
  },
  {
   "cell_type": "markdown",
   "metadata": {},
   "source": [
    "## Tools used"
   ]
  },
  {
   "cell_type": "code",
   "execution_count": 17,
   "metadata": {
    "collapsed": true
   },
   "outputs": [],
   "source": [
    "import MySQLdb as mdb               # Raw data source is MySQL\n",
    "import pandas as pd                 # Workhorse data management tool\n",
    "import numpy as np                  # For matrices, arrays, matrix math, and nan's\n",
    "from math import floor"
   ]
  },
  {
   "cell_type": "markdown",
   "metadata": {},
   "source": [
    "## Notebook Specifics"
   ]
  },
  {
   "cell_type": "code",
   "execution_count": 18,
   "metadata": {
    "collapsed": false
   },
   "outputs": [],
   "source": [
    "%matplotlib inline           \n",
    "pd.set_option(\"max_rows\", 10)\n",
    "np.set_printoptions(precision=3)       "
   ]
  },
  {
   "cell_type": "markdown",
   "metadata": {},
   "source": [
    "## Plotting, Graphics"
   ]
  },
  {
   "cell_type": "code",
   "execution_count": 19,
   "metadata": {
    "collapsed": true
   },
   "outputs": [],
   "source": [
    "import matplotlib.pyplot as plt     # For plotting some distributions\n",
    "import seaborn as sns               # For easy, pretty plotting\n",
    "sns.set_style(\"darkgrid\")\n",
    "sns.set_context(\"talk\", font_scale=1.4)"
   ]
  },
  {
   "cell_type": "code",
   "execution_count": 23,
   "metadata": {
    "collapsed": false
   },
   "outputs": [],
   "source": [
    "sys.path.append('./modules')\n",
    "from spill import get_bad_spills"
   ]
  },
  {
   "cell_type": "markdown",
   "metadata": {},
   "source": [
    "# Wrangling the data into shape"
   ]
  },
  {
   "cell_type": "markdown",
   "metadata": {},
   "source": [
    "## Reading Data from MySQL"
   ]
  },
  {
   "cell_type": "code",
   "execution_count": 24,
   "metadata": {
    "collapsed": false
   },
   "outputs": [],
   "source": [
    "server = 'e906-db3.fnal.gov'                         # Source MySQL server\n",
    "schema = 'merged_roadset62_R004_V005'                # Source MySQL schema\n",
    "analysis_schema = 'user_dannowitz_test1'   # A schema name for temporary storage\n",
    "analysis_table = 'target_analysis'                   # A table name for that schema"
   ]
  },
  {
   "cell_type": "code",
   "execution_count": 25,
   "metadata": {
    "collapsed": true
   },
   "outputs": [],
   "source": [
    "# Aggregate data into our analysis schema and table.\n",
    "# Table defined here:\n",
    "create_query = \"\"\"\n",
    "               CREATE TABLE IF NOT EXISTS %s.%s\n",
    "               (\n",
    "                   spillID MEDIUMINT NOT NULL,\n",
    "                   name VARCHAR(64),\n",
    "                   value DOUBLE NOT NULL,\n",
    "                   targetPos INT NOT NULL\n",
    "                )\"\"\""
   ]
  },
  {
   "cell_type": "code",
   "execution_count": 26,
   "metadata": {
    "collapsed": false
   },
   "outputs": [],
   "source": [
    "# Here is one MySQL query that will grab all the data we want\n",
    "#     Most of this requires a bit of domain expertise to understand\n",
    "#     as it's specific to our experiment's data structure\n",
    "scaler_query =  \"\"\"\n",
    "                INSERT INTO %s.%s\n",
    "                ### Get data from our Scaler table, along with the target position.\n",
    "                ### This contains features from our triggering systems (data taking rates)\n",
    "                \n",
    "                SELECT s.spillID, scalerName AS `name`, value, targetPos\n",
    "                FROM Scaler \n",
    "                INNER JOIN Spill s              # Source of targetPos\n",
    "                    USING(spillID) \n",
    "                WHERE scalerName IS NOT NULL AND \n",
    "                      s.spillID NOT BETWEEN 409000 AND 430000 AND\n",
    "                      s.spillID NOT BETWEEN 416709 AND 424180 AND\n",
    "                      s.spillID NOT BETWEEN 482574 AND 484924 AND\n",
    "                      spillType='EOS'\n",
    "                \"\"\""
   ]
  },
  {
   "cell_type": "code",
   "execution_count": 27,
   "metadata": {
    "collapsed": true
   },
   "outputs": [],
   "source": [
    "beam_query = \"\"\"\n",
    "             INSERT INTO %s.%s\n",
    "             ### Get data from our Beam table, along with the target position\n",
    "             ### This contains features from our proton beam and radiation monitors\n",
    "\n",
    "             SELECT s.spillID, name, value, targetPos \n",
    "             FROM Beam\n",
    "             INNER JOIN Spill s              # Source of targetPos\n",
    "                 USING(spillID)\n",
    "             WHERE name IS NOT NULL AND\n",
    "                 LEFT(name,3)!='F:M' AND   # Exclude features that are always NULL\n",
    "                 name!='F:NM2SEM' AND      # \n",
    "                 name!='U:TODB25' AND      #\n",
    "                 name!='S:KTEVTC' AND      #\n",
    "                 s.spillID NOT BETWEEN 409000 AND 430000 AND\n",
    "                 s.spillID NOT BETWEEN 416709 AND 423255 AND\n",
    "                 s.spillID NOT BETWEEN 423921 AND 424180 AND\n",
    "                 s.spillID NOT BETWEEN 482574 AND 484924\n",
    "             \"\"\""
   ]
  },
  {
   "cell_type": "code",
   "execution_count": 28,
   "metadata": {
    "collapsed": true
   },
   "outputs": [],
   "source": [
    "# The query for reading out the aggregated information\n",
    "fetch_query = \"\"\"SELECT * FROM %s.%s\"\"\""
   ]
  },
  {
   "cell_type": "code",
   "execution_count": 22,
   "metadata": {
    "collapsed": false
   },
   "outputs": [],
   "source": [
    "# Run the query and read the resultset into a DataFrame\n",
    "try:\n",
    "    db = mdb.connect(read_default_file='./.my.cnf',                  # Keep my login credentials secure\n",
    "                     read_default_group='guest',                   # Read-only access to important data\n",
    "                     host=server,\n",
    "                     db=schema,\n",
    "                     port=server_dict[server]['port'])\n",
    "    \n",
    "    cur = db.cursor()\n",
    "    \n",
    "    cur.execute(\"SHOW DATABASES LIKE '%s'\" % analysis_schema)      # See if schema exists\n",
    "    \n",
    "    if cur.rowcount != 0:\n",
    "        cur.execute(\"DROP DATABASE %s\" % analysis_schema)          # Drop if it does\n",
    "    \n",
    "    cur.execute(\"CREATE DATABASE %s\" % analysis_schema)            # Create analysis schema\n",
    "    cur.execute(create_query % (analysis_schema, analysis_table))  # Create analysis table\n",
    "    \n",
    "    cur.execute(scaler_query % (analysis_schema, analysis_table))  # Fill table with scaler data\n",
    "    cur.execute(beam_query % (analysis_schema, analysis_table))    # Fill table with beam data\n",
    "    \n",
    "    data_df = pd.read_sql(fetch_query %                            # Read data into DataFrame\n",
    "                          (analysis_schema, analysis_table), db)\n",
    "\n",
    "    if db:\n",
    "        db.close()\n",
    "\n",
    "except mdb.Error, e:\n",
    "\n",
    "    print \"Error %d: %s\" % (e.args[0], e.args[1])"
   ]
  },
  {
   "cell_type": "code",
   "execution_count": 28,
   "metadata": {
    "collapsed": false
   },
   "outputs": [],
   "source": [
    "# Write to file, and you can read it back instead of querying again\n",
    "data_df.to_csv('insight_demo_roadset62_long.csv')"
   ]
  },
  {
   "cell_type": "code",
   "execution_count": 12,
   "metadata": {
    "collapsed": false
   },
   "outputs": [],
   "source": [
    "# Write to file, and you can read it back instead of querying again\n",
    "data_df = pd.read_csv('insight_demo_roadset62.csv', index_col='Unnamed: 0')"
   ]
  },
  {
   "cell_type": "markdown",
   "metadata": {},
   "source": [
    "## Explore the Data"
   ]
  },
  {
   "cell_type": "code",
   "execution_count": 13,
   "metadata": {
    "collapsed": false
   },
   "outputs": [
    {
     "data": {
      "text/html": [
       "<div style=\"max-height:1000px;max-width:1500px;overflow:auto;\">\n",
       "<table border=\"1\" class=\"dataframe\">\n",
       "  <thead>\n",
       "    <tr style=\"text-align: right;\">\n",
       "      <th></th>\n",
       "      <th>spillID</th>\n",
       "      <th>name</th>\n",
       "      <th>value</th>\n",
       "      <th>targetPos</th>\n",
       "    </tr>\n",
       "  </thead>\n",
       "  <tbody>\n",
       "    <tr>\n",
       "      <th>0</th>\n",
       "      <td> 441625</td>\n",
       "      <td> AcceptedMATRIX1</td>\n",
       "      <td> 0</td>\n",
       "      <td> 1</td>\n",
       "    </tr>\n",
       "    <tr>\n",
       "      <th>1</th>\n",
       "      <td> 441625</td>\n",
       "      <td> AcceptedMATRIX2</td>\n",
       "      <td> 0</td>\n",
       "      <td> 1</td>\n",
       "    </tr>\n",
       "    <tr>\n",
       "      <th>2</th>\n",
       "      <td> 441625</td>\n",
       "      <td> AcceptedMATRIX3</td>\n",
       "      <td> 0</td>\n",
       "      <td> 1</td>\n",
       "    </tr>\n",
       "    <tr>\n",
       "      <th>3</th>\n",
       "      <td> 441625</td>\n",
       "      <td> AcceptedMATRIX4</td>\n",
       "      <td> 0</td>\n",
       "      <td> 1</td>\n",
       "    </tr>\n",
       "    <tr>\n",
       "      <th>4</th>\n",
       "      <td> 441625</td>\n",
       "      <td> AcceptedMATRIX5</td>\n",
       "      <td> 0</td>\n",
       "      <td> 1</td>\n",
       "    </tr>\n",
       "  </tbody>\n",
       "</table>\n",
       "<p>5 rows × 4 columns</p>\n",
       "</div>"
      ],
      "text/plain": [
       "   spillID             name  value  targetPos\n",
       "0   441625  AcceptedMATRIX1      0          1\n",
       "1   441625  AcceptedMATRIX2      0          1\n",
       "2   441625  AcceptedMATRIX3      0          1\n",
       "3   441625  AcceptedMATRIX4      0          1\n",
       "4   441625  AcceptedMATRIX5      0          1\n",
       "\n",
       "[5 rows x 4 columns]"
      ]
     },
     "execution_count": 13,
     "metadata": {},
     "output_type": "execute_result"
    }
   ],
   "source": [
    "data_df.head()                   # Peek at the data"
   ]
  },
  {
   "cell_type": "code",
   "execution_count": 14,
   "metadata": {
    "collapsed": false
   },
   "outputs": [
    {
     "name": "stdout",
     "output_type": "stream",
     "text": [
      "<class 'pandas.core.frame.DataFrame'>\n",
      "Int64Index: 4560334 entries, 0 to 4560333\n",
      "Data columns (total 4 columns):\n",
      "spillID      int64\n",
      "name         object\n",
      "value        float64\n",
      "targetPos    int64\n",
      "dtypes: float64(1), int64(2), object(1)"
     ]
    }
   ],
   "source": [
    "data_df.info()                # ...and investigate data types."
   ]
  },
  {
   "cell_type": "markdown",
   "metadata": {},
   "source": [
    "### Type conversion\n",
    "The ML classifier we're going to use only works on numerical data, so we need to change the 'value' field to a numerical data type"
   ]
  },
  {
   "cell_type": "code",
   "execution_count": 15,
   "metadata": {
    "collapsed": false
   },
   "outputs": [
    {
     "name": "stdout",
     "output_type": "stream",
     "text": [
      "<class 'pandas.core.frame.DataFrame'>\n",
      "Int64Index: 4560334 entries, 0 to 4560333\n",
      "Data columns (total 4 columns):\n",
      "spillID      int64\n",
      "name         object\n",
      "value        float64\n",
      "targetPos    int64\n",
      "dtypes: float64(1), int64(2), object(1)"
     ]
    }
   ],
   "source": [
    "# Cast as float\n",
    "data_df[['value']] = data_df[['value']].astype(float); data_df.info()"
   ]
  },
  {
   "cell_type": "markdown",
   "metadata": {},
   "source": [
    "## Clean the Data by removing entries that correspond to *Bad Spills*\n",
    "There are several criteria by which we classify a 5-second spill of data to be un-analyzable or irregular. Let's exclude those."
   ]
  },
  {
   "cell_type": "code",
   "execution_count": 16,
   "metadata": {
    "collapsed": false
   },
   "outputs": [
    {
     "name": "stdout",
     "output_type": "stream",
     "text": [
      "34 Spills where Spill.targetPos != Target.TARGPOS_CONTROL\n",
      "19 spills where spill.targetpos not between 1 and 7\n",
      "2352 spills where Scaler's TSGo not between 100.0 and 6000.0\n",
      "2356 spills where Scaler's AcceptedMatrix1 not between 100.0 and 6000.0\n",
      "2357 spills where Scaler's AfterInhMatrix1 not between 100.0 and 10000.0\n",
      "2380 spills where Scaler's Accepted / AfterInhibit not between 0.2 and 1.05\n",
      "2377 spills where Beam's G2SEM not between 2e+12 and 1e+13\n",
      "3420 spills where BeamDAQ's QIESum not between 40000000000.0 and 1e+12\n",
      "637 spills where BeamDAQ's Inhibit not between 4000000000.0 and 2e+11\n",
      "4100 spills where BeamDAQ's Busy not between 4000000000.0 and 1e+11\n",
      "4086 spills where BeamDAQ's Duty Factor not between 10 and 60\n",
      "765 Spills with duplicate values\n",
      "3908 Spills with missing value(s)\n"
     ]
    }
   ],
   "source": [
    "try:\n",
    "    # See if this has already been populated\n",
    "    bad_spill_set\n",
    "except:\n",
    "    # Get the set of bad (non-sense) spills for this data\n",
    "    bad_spill_set = get_bad_spills(server, schema)\n",
    "    \n",
    "# Get rid of entries that correspond to bad spills\n",
    "data_df = data_df.query('spillID not in bad_spill_set')"
   ]
  },
  {
   "cell_type": "markdown",
   "metadata": {},
   "source": [
    "## Explore Visually"
   ]
  },
  {
   "cell_type": "code",
   "execution_count": 17,
   "metadata": {
    "collapsed": false
   },
   "outputs": [
    {
     "name": "stdout",
     "output_type": "stream",
     "text": [
      "90 unique features\n"
     ]
    }
   ],
   "source": [
    "# How many features are we working with here?\n",
    "value_names = data_df.name.unique()\n",
    "print len(value_names), \"unique features\""
   ]
  },
  {
   "cell_type": "code",
   "execution_count": 23,
   "metadata": {
    "collapsed": false
   },
   "outputs": [
    {
     "data": {
      "image/png": "[encoded data removed]",
      "text/plain": [
       "<matplotlib.figure.Figure at 0x7f7b92ffd810>"
      ]
     },
     "metadata": {},
     "output_type": "display_data"
    }
   ],
   "source": [
    "# Take a look at the first eight\n",
    "fig, axes = plt.subplots(nrows=4, ncols=2, figsize=(12,20))\n",
    "index = 0\n",
    "for value_name in value_names[:8]:\n",
    "    subset_df = data_df[(data_df.name == value_name)]\n",
    "    axis = axes[floor(index/2),index%2]\n",
    "    sns.violinplot(subset_df.value,              # We want to inspect the feature\n",
    "                   subset_df.targetPos,          #   the distributions, and how they\n",
    "                   color=\"Paired\",               #   differ for each target position.\n",
    "                   bw=0.7,                       # The side-by-side, normalized nature \n",
    "                   ax=axis)                      #   of violin plots are ideal for this.  \n",
    "    axis.set_title(value_name)\n",
    "    axis.set_xlabel('Target Position', fontsize=20)\n",
    "    axis.set_ylabel('Value', fontsize=20)\n",
    "    index = index + 1\n",
    "    \n",
    "fig.subplots_adjust(hspace=0.4, wspace=0.4)\n",
    "plt.show()"
   ]
  },
  {
   "cell_type": "markdown",
   "metadata": {},
   "source": [
    "## Clean the Data some more\n",
    "### *Feature Exclusion*\n",
    "\n",
    "1. Pivot the dataframe\n",
    "2. Eliminate rows with missing data\n",
    "3. Inspect the means and standard deviations\n",
    "4. Identify the *zero standard deviation* features, as they're not helpful\n",
    "5. Remove them from our pivoted dataframe and our scaler_df dataset"
   ]
  },
  {
   "cell_type": "code",
   "execution_count": 24,
   "metadata": {
    "collapsed": false
   },
   "outputs": [
    {
     "data": {
      "text/html": [
       "<div style=\"max-height:1000px;max-width:1500px;overflow:auto;\">\n",
       "<table border=\"1\" class=\"dataframe\">\n",
       "  <thead>\n",
       "    <tr style=\"text-align: right;\">\n",
       "      <th>name</th>\n",
       "      <th>AcceptedBOS</th>\n",
       "      <th>AcceptedEOS</th>\n",
       "      <th>AcceptedMATRIX1</th>\n",
       "      <th>AcceptedMATRIX2</th>\n",
       "      <th>AcceptedMATRIX3</th>\n",
       "      <th>AcceptedMATRIX4</th>\n",
       "      <th>AcceptedMATRIX5</th>\n",
       "      <th>AcceptedNIM1</th>\n",
       "      <th>AcceptedNIM2</th>\n",
       "      <th>AcceptedNIM3</th>\n",
       "      <th>AcceptedNIM4</th>\n",
       "      <th>AcceptedNIM5</th>\n",
       "      <th>AfterInhMATRIX1</th>\n",
       "      <th>AfterInhMATRIX2</th>\n",
       "      <th>AfterInhMATRIX3</th>\n",
       "      <th>AfterInhMATRIX4</th>\n",
       "      <th>AfterInhMATRIX5</th>\n",
       "      <th>AfterInhNIM1</th>\n",
       "      <th>AfterInhNIM2</th>\n",
       "      <th>E:M2C2HF</th>\n",
       "      <th></th>\n",
       "    </tr>\n",
       "    <tr>\n",
       "      <th>spillID</th>\n",
       "      <th></th>\n",
       "      <th></th>\n",
       "      <th></th>\n",
       "      <th></th>\n",
       "      <th></th>\n",
       "      <th></th>\n",
       "      <th></th>\n",
       "      <th></th>\n",
       "      <th></th>\n",
       "      <th></th>\n",
       "      <th></th>\n",
       "      <th></th>\n",
       "      <th></th>\n",
       "      <th></th>\n",
       "      <th></th>\n",
       "      <th></th>\n",
       "      <th></th>\n",
       "      <th></th>\n",
       "      <th></th>\n",
       "      <th></th>\n",
       "    </tr>\n",
       "  </thead>\n",
       "  <tbody>\n",
       "    <tr>\n",
       "      <th>409563</th>\n",
       "      <td> 0</td>\n",
       "      <td> 1</td>\n",
       "      <td> 808</td>\n",
       "      <td> 93</td>\n",
       "      <td> 7</td>\n",
       "      <td> 11</td>\n",
       "      <td> 8</td>\n",
       "      <td> 24</td>\n",
       "      <td> 0</td>\n",
       "      <td> 16</td>\n",
       "      <td> 0</td>\n",
       "      <td> 0</td>\n",
       "      <td> 806</td>\n",
       "      <td> 105741</td>\n",
       "      <td> 864</td>\n",
       "      <td> 308482</td>\n",
       "      <td> 20032</td>\n",
       "      <td> 1074482</td>\n",
       "      <td> 7668937</td>\n",
       "      <td> 0.588439</td>\n",
       "      <td>...</td>\n",
       "    </tr>\n",
       "    <tr>\n",
       "      <th>409564</th>\n",
       "      <td> 0</td>\n",
       "      <td> 1</td>\n",
       "      <td> 849</td>\n",
       "      <td> 83</td>\n",
       "      <td> 6</td>\n",
       "      <td> 13</td>\n",
       "      <td> 8</td>\n",
       "      <td> 26</td>\n",
       "      <td> 0</td>\n",
       "      <td> 20</td>\n",
       "      <td> 0</td>\n",
       "      <td> 0</td>\n",
       "      <td> 847</td>\n",
       "      <td>  94634</td>\n",
       "      <td> 816</td>\n",
       "      <td> 325076</td>\n",
       "      <td> 20812</td>\n",
       "      <td> 1125483</td>\n",
       "      <td> 8121560</td>\n",
       "      <td> 0.533666</td>\n",
       "      <td>...</td>\n",
       "    </tr>\n",
       "    <tr>\n",
       "      <th>409565</th>\n",
       "      <td> 0</td>\n",
       "      <td> 1</td>\n",
       "      <td> 776</td>\n",
       "      <td> 87</td>\n",
       "      <td> 7</td>\n",
       "      <td> 12</td>\n",
       "      <td> 8</td>\n",
       "      <td> 23</td>\n",
       "      <td> 0</td>\n",
       "      <td> 17</td>\n",
       "      <td> 0</td>\n",
       "      <td> 0</td>\n",
       "      <td> 774</td>\n",
       "      <td>  98952</td>\n",
       "      <td> 874</td>\n",
       "      <td> 313197</td>\n",
       "      <td> 19887</td>\n",
       "      <td> 1075133</td>\n",
       "      <td> 7872807</td>\n",
       "      <td> 0.562404</td>\n",
       "      <td>...</td>\n",
       "    </tr>\n",
       "    <tr>\n",
       "      <th>409566</th>\n",
       "      <td> 0</td>\n",
       "      <td> 1</td>\n",
       "      <td> 855</td>\n",
       "      <td> 90</td>\n",
       "      <td> 7</td>\n",
       "      <td> 12</td>\n",
       "      <td> 8</td>\n",
       "      <td> 27</td>\n",
       "      <td> 0</td>\n",
       "      <td> 18</td>\n",
       "      <td> 0</td>\n",
       "      <td> 0</td>\n",
       "      <td> 855</td>\n",
       "      <td> 102557</td>\n",
       "      <td> 876</td>\n",
       "      <td> 304233</td>\n",
       "      <td> 19508</td>\n",
       "      <td> 1076774</td>\n",
       "      <td> 7851474</td>\n",
       "      <td> 0.572679</td>\n",
       "      <td>...</td>\n",
       "    </tr>\n",
       "    <tr>\n",
       "      <th>409567</th>\n",
       "      <td> 0</td>\n",
       "      <td> 1</td>\n",
       "      <td> 826</td>\n",
       "      <td> 86</td>\n",
       "      <td> 6</td>\n",
       "      <td> 13</td>\n",
       "      <td> 9</td>\n",
       "      <td> 28</td>\n",
       "      <td> 0</td>\n",
       "      <td> 15</td>\n",
       "      <td> 0</td>\n",
       "      <td> 0</td>\n",
       "      <td> 824</td>\n",
       "      <td>  97749</td>\n",
       "      <td> 761</td>\n",
       "      <td> 321353</td>\n",
       "      <td> 20088</td>\n",
       "      <td> 1109285</td>\n",
       "      <td> 8167020</td>\n",
       "      <td> 0.573294</td>\n",
       "      <td>...</td>\n",
       "    </tr>\n",
       "  </tbody>\n",
       "</table>\n",
       "<p>5 rows × 90 columns</p>\n",
       "</div>"
      ],
      "text/plain": [
       "name     AcceptedBOS  AcceptedEOS  AcceptedMATRIX1  AcceptedMATRIX2  \\\n",
       "spillID                                                               \n",
       "409563             0            1              808               93   \n",
       "409564             0            1              849               83   \n",
       "409565             0            1              776               87   \n",
       "409566             0            1              855               90   \n",
       "409567             0            1              826               86   \n",
       "\n",
       "name     AcceptedMATRIX3  AcceptedMATRIX4  AcceptedMATRIX5  AcceptedNIM1  \\\n",
       "spillID                                                                    \n",
       "409563                 7               11                8            24   \n",
       "409564                 6               13                8            26   \n",
       "409565                 7               12                8            23   \n",
       "409566                 7               12                8            27   \n",
       "409567                 6               13                9            28   \n",
       "\n",
       "name     AcceptedNIM2  AcceptedNIM3  AcceptedNIM4  AcceptedNIM5  \\\n",
       "spillID                                                           \n",
       "409563              0            16             0             0   \n",
       "409564              0            20             0             0   \n",
       "409565              0            17             0             0   \n",
       "409566              0            18             0             0   \n",
       "409567              0            15             0             0   \n",
       "\n",
       "name     AfterInhMATRIX1  AfterInhMATRIX2  AfterInhMATRIX3  AfterInhMATRIX4  \\\n",
       "spillID                                                                       \n",
       "409563               806           105741              864           308482   \n",
       "409564               847            94634              816           325076   \n",
       "409565               774            98952              874           313197   \n",
       "409566               855           102557              876           304233   \n",
       "409567               824            97749              761           321353   \n",
       "\n",
       "name     AfterInhMATRIX5  AfterInhNIM1  AfterInhNIM2  E:M2C2HF      \n",
       "spillID                                                             \n",
       "409563             20032       1074482       7668937  0.588439 ...  \n",
       "409564             20812       1125483       8121560  0.533666 ...  \n",
       "409565             19887       1075133       7872807  0.562404 ...  \n",
       "409566             19508       1076774       7851474  0.572679 ...  \n",
       "409567             20088       1109285       8167020  0.573294 ...  \n",
       "\n",
       "[5 rows x 90 columns]"
      ]
     },
     "execution_count": 24,
     "metadata": {},
     "output_type": "execute_result"
    }
   ],
   "source": [
    "# We want to see our scalerNames as column indexes\n",
    "pivoted_df = data_df.pivot('spillID', 'name', 'value'); pivoted_df.head()"
   ]
  },
  {
   "cell_type": "markdown",
   "metadata": {},
   "source": [
    "### Handle missing data"
   ]
  },
  {
   "cell_type": "code",
   "execution_count": 26,
   "metadata": {
    "collapsed": false
   },
   "outputs": [],
   "source": [
    "# Replace sentinel values with NaN's and then drop those rows\n",
    "pivoted_df = pivoted_df.replace(-9999,np.nan).dropna(axis=0,how='any')"
   ]
  },
  {
   "cell_type": "code",
   "execution_count": 27,
   "metadata": {
    "collapsed": false
   },
   "outputs": [
    {
     "data": {
      "text/html": [
       "<div style=\"max-height:1000px;max-width:1500px;overflow:auto;\">\n",
       "<table border=\"1\" class=\"dataframe\">\n",
       "  <thead>\n",
       "    <tr style=\"text-align: right;\">\n",
       "      <th>name</th>\n",
       "      <th>AcceptedBOS</th>\n",
       "      <th>AcceptedEOS</th>\n",
       "      <th>AcceptedMATRIX1</th>\n",
       "      <th>AcceptedMATRIX2</th>\n",
       "      <th>AcceptedMATRIX3</th>\n",
       "      <th>AcceptedMATRIX4</th>\n",
       "      <th>AcceptedMATRIX5</th>\n",
       "      <th>AcceptedNIM1</th>\n",
       "      <th>AcceptedNIM2</th>\n",
       "      <th>AcceptedNIM3</th>\n",
       "      <th>AcceptedNIM4</th>\n",
       "      <th>AcceptedNIM5</th>\n",
       "      <th>AfterInhMATRIX1</th>\n",
       "      <th>AfterInhMATRIX2</th>\n",
       "      <th>AfterInhMATRIX3</th>\n",
       "      <th>AfterInhMATRIX4</th>\n",
       "      <th>AfterInhMATRIX5</th>\n",
       "      <th>AfterInhNIM1</th>\n",
       "      <th>AfterInhNIM2</th>\n",
       "      <th>E:M2C2HF</th>\n",
       "      <th></th>\n",
       "    </tr>\n",
       "  </thead>\n",
       "  <tbody>\n",
       "    <tr>\n",
       "      <th>count</th>\n",
       "      <td> 46416</td>\n",
       "      <td> 46416</td>\n",
       "      <td> 46416.000000</td>\n",
       "      <td> 46416.000000</td>\n",
       "      <td> 46416.000000</td>\n",
       "      <td> 46416.000000</td>\n",
       "      <td> 46416.000000</td>\n",
       "      <td> 46416.000000</td>\n",
       "      <td> 46416</td>\n",
       "      <td> 46416.000000</td>\n",
       "      <td> 46416</td>\n",
       "      <td> 46416</td>\n",
       "      <td> 46416.000000</td>\n",
       "      <td>   46416.000000</td>\n",
       "      <td>  46416.000000</td>\n",
       "      <td>   46416.000000</td>\n",
       "      <td>  46416.000000</td>\n",
       "      <td>   46416.000000</td>\n",
       "      <td>    46416.000000</td>\n",
       "      <td> 46416.000000</td>\n",
       "      <td>...</td>\n",
       "    </tr>\n",
       "    <tr>\n",
       "      <th>mean</th>\n",
       "      <td>     0</td>\n",
       "      <td>     1</td>\n",
       "      <td>  2395.605265</td>\n",
       "      <td>    78.802762</td>\n",
       "      <td>    22.043843</td>\n",
       "      <td>    25.623406</td>\n",
       "      <td>    20.374074</td>\n",
       "      <td>    40.141955</td>\n",
       "      <td>     0</td>\n",
       "      <td>    17.790805</td>\n",
       "      <td>     0</td>\n",
       "      <td>     0</td>\n",
       "      <td>  2921.722682</td>\n",
       "      <td>  255300.182803</td>\n",
       "      <td>   3256.771501</td>\n",
       "      <td>  760553.851237</td>\n",
       "      <td>  58113.473414</td>\n",
       "      <td> 1597429.165051</td>\n",
       "      <td> 12363367.193166</td>\n",
       "      <td>     1.473766</td>\n",
       "      <td>...</td>\n",
       "    </tr>\n",
       "    <tr>\n",
       "      <th>std</th>\n",
       "      <td>     0</td>\n",
       "      <td>     0</td>\n",
       "      <td>   630.960043</td>\n",
       "      <td>   127.888964</td>\n",
       "      <td>    45.137150</td>\n",
       "      <td>     7.746402</td>\n",
       "      <td>     7.262025</td>\n",
       "      <td>     7.482235</td>\n",
       "      <td>     0</td>\n",
       "      <td>     1.785314</td>\n",
       "      <td>     0</td>\n",
       "      <td>     0</td>\n",
       "      <td>   981.711313</td>\n",
       "      <td>  199107.022268</td>\n",
       "      <td>   5599.279285</td>\n",
       "      <td>  229066.293383</td>\n",
       "      <td>  19782.287330</td>\n",
       "      <td>  247344.078433</td>\n",
       "      <td>  3015483.568559</td>\n",
       "      <td>     0.764595</td>\n",
       "      <td>...</td>\n",
       "    </tr>\n",
       "    <tr>\n",
       "      <th>min</th>\n",
       "      <td>     0</td>\n",
       "      <td>     1</td>\n",
       "      <td>   505.000000</td>\n",
       "      <td>     1.000000</td>\n",
       "      <td>     4.000000</td>\n",
       "      <td>     4.000000</td>\n",
       "      <td>     5.000000</td>\n",
       "      <td>    12.000000</td>\n",
       "      <td>     0</td>\n",
       "      <td>     9.000000</td>\n",
       "      <td>     0</td>\n",
       "      <td>     0</td>\n",
       "      <td>   503.000000</td>\n",
       "      <td>   24268.000000</td>\n",
       "      <td>    531.000000</td>\n",
       "      <td>  116053.000000</td>\n",
       "      <td>  11554.000000</td>\n",
       "      <td>  573793.000000</td>\n",
       "      <td>  3074828.000000</td>\n",
       "      <td>     0.111486</td>\n",
       "      <td>...</td>\n",
       "    </tr>\n",
       "    <tr>\n",
       "      <th>25%</th>\n",
       "      <td>     0</td>\n",
       "      <td>     1</td>\n",
       "      <td>  2050.000000</td>\n",
       "      <td>    13.000000</td>\n",
       "      <td>    17.000000</td>\n",
       "      <td>    18.000000</td>\n",
       "      <td>    16.000000</td>\n",
       "      <td>    35.000000</td>\n",
       "      <td>     0</td>\n",
       "      <td>    17.000000</td>\n",
       "      <td>     0</td>\n",
       "      <td>     0</td>\n",
       "      <td>  2395.000000</td>\n",
       "      <td>  133538.750000</td>\n",
       "      <td>   2470.000000</td>\n",
       "      <td>  599644.250000</td>\n",
       "      <td>  49696.750000</td>\n",
       "      <td> 1402212.000000</td>\n",
       "      <td> 10131216.500000</td>\n",
       "      <td>     0.908831</td>\n",
       "      <td>...</td>\n",
       "    </tr>\n",
       "    <tr>\n",
       "      <th>50%</th>\n",
       "      <td>     0</td>\n",
       "      <td>     1</td>\n",
       "      <td>  2449.000000</td>\n",
       "      <td>    17.000000</td>\n",
       "      <td>    20.000000</td>\n",
       "      <td>    29.000000</td>\n",
       "      <td>    21.000000</td>\n",
       "      <td>    42.000000</td>\n",
       "      <td>     0</td>\n",
       "      <td>    18.000000</td>\n",
       "      <td>     0</td>\n",
       "      <td>     0</td>\n",
       "      <td>  2910.000000</td>\n",
       "      <td>  171214.000000</td>\n",
       "      <td>   3027.000000</td>\n",
       "      <td>  849329.500000</td>\n",
       "      <td>  61836.500000</td>\n",
       "      <td> 1693271.000000</td>\n",
       "      <td> 13332940.500000</td>\n",
       "      <td>     1.405818</td>\n",
       "      <td>...</td>\n",
       "    </tr>\n",
       "    <tr>\n",
       "      <th>75%</th>\n",
       "      <td>     0</td>\n",
       "      <td>     1</td>\n",
       "      <td>  2783.000000</td>\n",
       "      <td>    67.000000</td>\n",
       "      <td>    24.000000</td>\n",
       "      <td>    32.000000</td>\n",
       "      <td>    25.000000</td>\n",
       "      <td>    46.000000</td>\n",
       "      <td>     0</td>\n",
       "      <td>    19.000000</td>\n",
       "      <td>     0</td>\n",
       "      <td>     0</td>\n",
       "      <td>  3460.000000</td>\n",
       "      <td>  264367.250000</td>\n",
       "      <td>   3607.000000</td>\n",
       "      <td>  925483.500000</td>\n",
       "      <td>  69085.500000</td>\n",
       "      <td> 1785526.500000</td>\n",
       "      <td> 14964360.500000</td>\n",
       "      <td>     1.866966</td>\n",
       "      <td>...</td>\n",
       "    </tr>\n",
       "    <tr>\n",
       "      <th>max</th>\n",
       "      <td>     0</td>\n",
       "      <td>     1</td>\n",
       "      <td>  5183.000000</td>\n",
       "      <td>   818.000000</td>\n",
       "      <td>  1272.000000</td>\n",
       "      <td>    45.000000</td>\n",
       "      <td>   133.000000</td>\n",
       "      <td>    61.000000</td>\n",
       "      <td>     0</td>\n",
       "      <td>    24.000000</td>\n",
       "      <td>     0</td>\n",
       "      <td>     0</td>\n",
       "      <td>  9926.000000</td>\n",
       "      <td> 1966838.000000</td>\n",
       "      <td> 157050.000000</td>\n",
       "      <td> 1333842.000000</td>\n",
       "      <td> 308908.000000</td>\n",
       "      <td> 2558621.000000</td>\n",
       "      <td> 17580954.000000</td>\n",
       "      <td>     6.192471</td>\n",
       "      <td>...</td>\n",
       "    </tr>\n",
       "  </tbody>\n",
       "</table>\n",
       "<p>8 rows × 90 columns</p>\n",
       "</div>"
      ],
      "text/plain": [
       "name   AcceptedBOS  AcceptedEOS  AcceptedMATRIX1  AcceptedMATRIX2  \\\n",
       "count        46416        46416     46416.000000     46416.000000   \n",
       "mean             0            1      2395.605265        78.802762   \n",
       "std              0            0       630.960043       127.888964   \n",
       "min              0            1       505.000000         1.000000   \n",
       "25%              0            1      2050.000000        13.000000   \n",
       "50%              0            1      2449.000000        17.000000   \n",
       "75%              0            1      2783.000000        67.000000   \n",
       "max              0            1      5183.000000       818.000000   \n",
       "\n",
       "name   AcceptedMATRIX3  AcceptedMATRIX4  AcceptedMATRIX5  AcceptedNIM1  \\\n",
       "count     46416.000000     46416.000000     46416.000000  46416.000000   \n",
       "mean         22.043843        25.623406        20.374074     40.141955   \n",
       "std          45.137150         7.746402         7.262025      7.482235   \n",
       "min           4.000000         4.000000         5.000000     12.000000   \n",
       "25%          17.000000        18.000000        16.000000     35.000000   \n",
       "50%          20.000000        29.000000        21.000000     42.000000   \n",
       "75%          24.000000        32.000000        25.000000     46.000000   \n",
       "max        1272.000000        45.000000       133.000000     61.000000   \n",
       "\n",
       "name   AcceptedNIM2  AcceptedNIM3  AcceptedNIM4  AcceptedNIM5  \\\n",
       "count         46416  46416.000000         46416         46416   \n",
       "mean              0     17.790805             0             0   \n",
       "std               0      1.785314             0             0   \n",
       "min               0      9.000000             0             0   \n",
       "25%               0     17.000000             0             0   \n",
       "50%               0     18.000000             0             0   \n",
       "75%               0     19.000000             0             0   \n",
       "max               0     24.000000             0             0   \n",
       "\n",
       "name   AfterInhMATRIX1  AfterInhMATRIX2  AfterInhMATRIX3  AfterInhMATRIX4  \\\n",
       "count     46416.000000     46416.000000     46416.000000     46416.000000   \n",
       "mean       2921.722682    255300.182803      3256.771501    760553.851237   \n",
       "std         981.711313    199107.022268      5599.279285    229066.293383   \n",
       "min         503.000000     24268.000000       531.000000    116053.000000   \n",
       "25%        2395.000000    133538.750000      2470.000000    599644.250000   \n",
       "50%        2910.000000    171214.000000      3027.000000    849329.500000   \n",
       "75%        3460.000000    264367.250000      3607.000000    925483.500000   \n",
       "max        9926.000000   1966838.000000    157050.000000   1333842.000000   \n",
       "\n",
       "name   AfterInhMATRIX5    AfterInhNIM1     AfterInhNIM2      E:M2C2HF      \n",
       "count     46416.000000    46416.000000     46416.000000  46416.000000 ...  \n",
       "mean      58113.473414  1597429.165051  12363367.193166      1.473766 ...  \n",
       "std       19782.287330   247344.078433   3015483.568559      0.764595 ...  \n",
       "min       11554.000000   573793.000000   3074828.000000      0.111486 ...  \n",
       "25%       49696.750000  1402212.000000  10131216.500000      0.908831 ...  \n",
       "50%       61836.500000  1693271.000000  13332940.500000      1.405818 ...  \n",
       "75%       69085.500000  1785526.500000  14964360.500000      1.866966 ...  \n",
       "max      308908.000000  2558621.000000  17580954.000000      6.192471 ...  \n",
       "\n",
       "[8 rows x 90 columns]"
      ]
     },
     "execution_count": 27,
     "metadata": {},
     "output_type": "execute_result"
    }
   ],
   "source": [
    "# We take a peek to see what the values in each look like overall\n",
    "pivoted_df.describe()"
   ]
  },
  {
   "cell_type": "markdown",
   "metadata": {},
   "source": [
    "### Identify *zero standard deviation* features"
   ]
  },
  {
   "cell_type": "code",
   "execution_count": 28,
   "metadata": {
    "collapsed": false
   },
   "outputs": [
    {
     "data": {
      "text/plain": [
       "array(['AcceptedBOS', 'AcceptedEOS', 'AcceptedNIM2', 'AcceptedNIM4',\n",
       "       'AcceptedNIM5', 'E:M3TGHF', 'E:M3TGHI', 'E:M3TGVF', 'E:M3TGVI',\n",
       "       'F:NM3ION', 'G:BNCH13', 'NM3SEM', 'PrescaleNIM2', 'PrescaleNIM4',\n",
       "       'PrescaleNIM5', 'PrescaledBOS', 'PrescaledEOS'], dtype=object)"
      ]
     },
     "execution_count": 28,
     "metadata": {},
     "output_type": "execute_result"
    }
   ],
   "source": [
    "# It's sufficient to say that if the standard deviation is 0, then it's certainly not useful\n",
    "zero_std_series = (pivoted_df.describe().ix['std'] == 0)\n",
    "# Get an array of all the features with zero standard deviations\n",
    "zero_std_features = zero_std_series[zero_std_series == True].index.values; zero_std_features"
   ]
  },
  {
   "cell_type": "markdown",
   "metadata": {},
   "source": [
    "### Remove these from our analysis"
   ]
  },
  {
   "cell_type": "code",
   "execution_count": 29,
   "metadata": {
    "collapsed": false
   },
   "outputs": [],
   "source": [
    "# Get rid of these features\n",
    "_ = pivoted_df.drop(zero_std_features, axis=1, inplace=True)"
   ]
  },
  {
   "cell_type": "markdown",
   "metadata": {},
   "source": [
    "# Assemble Cleaned, Processed Data\n",
    "### With data and labels, so that it's well-suited to be fed to our RFC"
   ]
  },
  {
   "cell_type": "code",
   "execution_count": 30,
   "metadata": {
    "collapsed": false
   },
   "outputs": [
    {
     "data": {
      "text/html": [
       "<div style=\"max-height:1000px;max-width:1500px;overflow:auto;\">\n",
       "<table border=\"1\" class=\"dataframe\">\n",
       "  <thead>\n",
       "    <tr style=\"text-align: right;\">\n",
       "      <th></th>\n",
       "      <th>spillID</th>\n",
       "      <th>targetPos</th>\n",
       "    </tr>\n",
       "  </thead>\n",
       "  <tbody>\n",
       "    <tr>\n",
       "      <th>254012</th>\n",
       "      <td> 409563</td>\n",
       "      <td> 1</td>\n",
       "    </tr>\n",
       "    <tr>\n",
       "      <th>254056</th>\n",
       "      <td> 409564</td>\n",
       "      <td> 1</td>\n",
       "    </tr>\n",
       "    <tr>\n",
       "      <th>254100</th>\n",
       "      <td> 409565</td>\n",
       "      <td> 1</td>\n",
       "    </tr>\n",
       "    <tr>\n",
       "      <th>254144</th>\n",
       "      <td> 409566</td>\n",
       "      <td> 1</td>\n",
       "    </tr>\n",
       "    <tr>\n",
       "      <th>254188</th>\n",
       "      <td> 409567</td>\n",
       "      <td> 1</td>\n",
       "    </tr>\n",
       "  </tbody>\n",
       "</table>\n",
       "<p>5 rows × 2 columns</p>\n",
       "</div>"
      ],
      "text/plain": [
       "        spillID  targetPos\n",
       "254012   409563          1\n",
       "254056   409564          1\n",
       "254100   409565          1\n",
       "254144   409566          1\n",
       "254188   409567          1\n",
       "\n",
       "[5 rows x 2 columns]"
      ]
     },
     "execution_count": 30,
     "metadata": {},
     "output_type": "execute_result"
    }
   ],
   "source": [
    "# Let's prepare the lables, or, our target positions\n",
    "targpos_df = data_df[['spillID','targetPos']].drop_duplicates().sort('spillID')\n",
    "targpos_df.head()"
   ]
  },
  {
   "cell_type": "markdown",
   "metadata": {},
   "source": [
    "### Merge the data with the labels"
   ]
  },
  {
   "cell_type": "code",
   "execution_count": 31,
   "metadata": {
    "collapsed": false
   },
   "outputs": [],
   "source": [
    "full_df = pd.merge(pivoted_df, targpos_df, how='left', right_on='spillID', left_index=True)"
   ]
  },
  {
   "cell_type": "code",
   "execution_count": 32,
   "metadata": {
    "collapsed": false
   },
   "outputs": [
    {
     "data": {
      "text/html": [
       "<div style=\"max-height:1000px;max-width:1500px;overflow:auto;\">\n",
       "<table border=\"1\" class=\"dataframe\">\n",
       "  <thead>\n",
       "    <tr style=\"text-align: right;\">\n",
       "      <th></th>\n",
       "      <th>AcceptedMATRIX1</th>\n",
       "      <th>AcceptedMATRIX2</th>\n",
       "      <th>AcceptedMATRIX3</th>\n",
       "      <th>AcceptedMATRIX4</th>\n",
       "      <th>AcceptedMATRIX5</th>\n",
       "      <th>AcceptedNIM1</th>\n",
       "      <th>AcceptedNIM3</th>\n",
       "      <th>AfterInhMATRIX1</th>\n",
       "      <th>AfterInhMATRIX2</th>\n",
       "      <th>AfterInhMATRIX3</th>\n",
       "      <th>AfterInhMATRIX4</th>\n",
       "      <th>AfterInhMATRIX5</th>\n",
       "      <th>AfterInhNIM1</th>\n",
       "      <th>AfterInhNIM2</th>\n",
       "      <th>E:M2C2HF</th>\n",
       "      <th>E:M2C2HI</th>\n",
       "      <th>E:M2C2HM</th>\n",
       "      <th>E:M2C2HS</th>\n",
       "      <th>E:M2C2VF</th>\n",
       "      <th>E:M2C2VI</th>\n",
       "      <th></th>\n",
       "    </tr>\n",
       "    <tr>\n",
       "      <th>spillID</th>\n",
       "      <th></th>\n",
       "      <th></th>\n",
       "      <th></th>\n",
       "      <th></th>\n",
       "      <th></th>\n",
       "      <th></th>\n",
       "      <th></th>\n",
       "      <th></th>\n",
       "      <th></th>\n",
       "      <th></th>\n",
       "      <th></th>\n",
       "      <th></th>\n",
       "      <th></th>\n",
       "      <th></th>\n",
       "      <th></th>\n",
       "      <th></th>\n",
       "      <th></th>\n",
       "      <th></th>\n",
       "      <th></th>\n",
       "      <th></th>\n",
       "    </tr>\n",
       "  </thead>\n",
       "  <tbody>\n",
       "    <tr>\n",
       "      <th>409563</th>\n",
       "      <td> 808</td>\n",
       "      <td> 93</td>\n",
       "      <td> 7</td>\n",
       "      <td> 11</td>\n",
       "      <td> 8</td>\n",
       "      <td> 24</td>\n",
       "      <td> 16</td>\n",
       "      <td> 806</td>\n",
       "      <td> 105741</td>\n",
       "      <td> 864</td>\n",
       "      <td> 308482</td>\n",
       "      <td> 20032</td>\n",
       "      <td> 1074482</td>\n",
       "      <td> 7668937</td>\n",
       "      <td> 0.588439</td>\n",
       "      <td> 16294</td>\n",
       "      <td>-0.307966</td>\n",
       "      <td> 13.707375</td>\n",
       "      <td> 0.596055</td>\n",
       "      <td> 15929.0</td>\n",
       "      <td>...</td>\n",
       "    </tr>\n",
       "    <tr>\n",
       "      <th>409564</th>\n",
       "      <td> 849</td>\n",
       "      <td> 83</td>\n",
       "      <td> 6</td>\n",
       "      <td> 13</td>\n",
       "      <td> 8</td>\n",
       "      <td> 26</td>\n",
       "      <td> 20</td>\n",
       "      <td> 847</td>\n",
       "      <td>  94634</td>\n",
       "      <td> 816</td>\n",
       "      <td> 325076</td>\n",
       "      <td> 20812</td>\n",
       "      <td> 1125483</td>\n",
       "      <td> 8121560</td>\n",
       "      <td> 0.533666</td>\n",
       "      <td> 17009</td>\n",
       "      <td>-0.038069</td>\n",
       "      <td> 13.580206</td>\n",
       "      <td> 0.564570</td>\n",
       "      <td> 16418.0</td>\n",
       "      <td>...</td>\n",
       "    </tr>\n",
       "    <tr>\n",
       "      <th>409565</th>\n",
       "      <td> 776</td>\n",
       "      <td> 87</td>\n",
       "      <td> 7</td>\n",
       "      <td> 12</td>\n",
       "      <td> 8</td>\n",
       "      <td> 23</td>\n",
       "      <td> 17</td>\n",
       "      <td> 774</td>\n",
       "      <td>  98952</td>\n",
       "      <td> 874</td>\n",
       "      <td> 313197</td>\n",
       "      <td> 19887</td>\n",
       "      <td> 1075133</td>\n",
       "      <td> 7872807</td>\n",
       "      <td> 0.562404</td>\n",
       "      <td> 16732</td>\n",
       "      <td>-0.220535</td>\n",
       "      <td> 13.662904</td>\n",
       "      <td> 0.573993</td>\n",
       "      <td> 16392.0</td>\n",
       "      <td>...</td>\n",
       "    </tr>\n",
       "    <tr>\n",
       "      <th>409566</th>\n",
       "      <td> 855</td>\n",
       "      <td> 90</td>\n",
       "      <td> 7</td>\n",
       "      <td> 12</td>\n",
       "      <td> 8</td>\n",
       "      <td> 27</td>\n",
       "      <td> 18</td>\n",
       "      <td> 855</td>\n",
       "      <td> 102557</td>\n",
       "      <td> 876</td>\n",
       "      <td> 304233</td>\n",
       "      <td> 19508</td>\n",
       "      <td> 1076774</td>\n",
       "      <td> 7851474</td>\n",
       "      <td> 0.572679</td>\n",
       "      <td> 15775</td>\n",
       "      <td>-0.277687</td>\n",
       "      <td> 13.679939</td>\n",
       "      <td> 0.598182</td>\n",
       "      <td> 15249.0</td>\n",
       "      <td>...</td>\n",
       "    </tr>\n",
       "    <tr>\n",
       "      <th>409567</th>\n",
       "      <td> 826</td>\n",
       "      <td> 86</td>\n",
       "      <td> 6</td>\n",
       "      <td> 13</td>\n",
       "      <td> 9</td>\n",
       "      <td> 28</td>\n",
       "      <td> 15</td>\n",
       "      <td> 824</td>\n",
       "      <td>  97749</td>\n",
       "      <td> 761</td>\n",
       "      <td> 321353</td>\n",
       "      <td> 20088</td>\n",
       "      <td> 1109285</td>\n",
       "      <td> 8167020</td>\n",
       "      <td> 0.573294</td>\n",
       "      <td> 14999</td>\n",
       "      <td>-0.225248</td>\n",
       "      <td> 13.655654</td>\n",
       "      <td> 0.579170</td>\n",
       "      <td> 14720.5</td>\n",
       "      <td>...</td>\n",
       "    </tr>\n",
       "  </tbody>\n",
       "</table>\n",
       "<p>5 rows × 74 columns</p>\n",
       "</div>"
      ],
      "text/plain": [
       "         AcceptedMATRIX1  AcceptedMATRIX2  AcceptedMATRIX3  AcceptedMATRIX4  \\\n",
       "spillID                                                                       \n",
       "409563               808               93                7               11   \n",
       "409564               849               83                6               13   \n",
       "409565               776               87                7               12   \n",
       "409566               855               90                7               12   \n",
       "409567               826               86                6               13   \n",
       "\n",
       "         AcceptedMATRIX5  AcceptedNIM1  AcceptedNIM3  AfterInhMATRIX1  \\\n",
       "spillID                                                                 \n",
       "409563                 8            24            16              806   \n",
       "409564                 8            26            20              847   \n",
       "409565                 8            23            17              774   \n",
       "409566                 8            27            18              855   \n",
       "409567                 9            28            15              824   \n",
       "\n",
       "         AfterInhMATRIX2  AfterInhMATRIX3  AfterInhMATRIX4  AfterInhMATRIX5  \\\n",
       "spillID                                                                       \n",
       "409563            105741              864           308482            20032   \n",
       "409564             94634              816           325076            20812   \n",
       "409565             98952              874           313197            19887   \n",
       "409566            102557              876           304233            19508   \n",
       "409567             97749              761           321353            20088   \n",
       "\n",
       "         AfterInhNIM1  AfterInhNIM2  E:M2C2HF  E:M2C2HI  E:M2C2HM   E:M2C2HS  \\\n",
       "spillID                                                                        \n",
       "409563        1074482       7668937  0.588439     16294 -0.307966  13.707375   \n",
       "409564        1125483       8121560  0.533666     17009 -0.038069  13.580206   \n",
       "409565        1075133       7872807  0.562404     16732 -0.220535  13.662904   \n",
       "409566        1076774       7851474  0.572679     15775 -0.277687  13.679939   \n",
       "409567        1109285       8167020  0.573294     14999 -0.225248  13.655654   \n",
       "\n",
       "         E:M2C2VF  E:M2C2VI      \n",
       "spillID                          \n",
       "409563   0.596055   15929.0 ...  \n",
       "409564   0.564570   16418.0 ...  \n",
       "409565   0.573993   16392.0 ...  \n",
       "409566   0.598182   15249.0 ...  \n",
       "409567   0.579170   14720.5 ...  \n",
       "\n",
       "[5 rows x 74 columns]"
      ]
     },
     "execution_count": 32,
     "metadata": {},
     "output_type": "execute_result"
    }
   ],
   "source": [
    "full_df = full_df.set_index('spillID')\n",
    "full_df.head()"
   ]
  },
  {
   "cell_type": "markdown",
   "metadata": {},
   "source": [
    "## And here is our full data set in all its glory\n",
    "70 features, no NaN's, and no completely meaningless features (std dev != 0)"
   ]
  },
  {
   "cell_type": "code",
   "execution_count": 33,
   "metadata": {
    "collapsed": false
   },
   "outputs": [],
   "source": [
    "# Write it to file for use in the next part.\n",
    "full_df.to_csv('insight_demo_roadset62.csv')"
   ]
  },
  {
   "cell_type": "markdown",
   "metadata": {
    "collapsed": false
   },
   "source": [
    "# Create, Train Random Forest From Data"
   ]
  },
  {
   "cell_type": "code",
   "execution_count": 5,
   "metadata": {
    "collapsed": false
   },
   "outputs": [],
   "source": [
    "from sklearn.ensemble import RandomForestClassifier \n",
    "from sklearn.preprocessing import StandardScaler\n",
    "from sklearn import cross_validation              # We'll want to cross-validate our RF\n",
    "sns.set_context(\"poster\")"
   ]
  },
  {
   "cell_type": "code",
   "execution_count": 6,
   "metadata": {
    "collapsed": false
   },
   "outputs": [],
   "source": [
    "# If the data is already written, and we're re-visiting, \n",
    "#    just load the prepared data here\n",
    "full_df = pd.read_csv('insight_demo_roadset62.csv', index_col='spillID')"
   ]
  },
  {
   "cell_type": "code",
   "execution_count": 7,
   "metadata": {
    "collapsed": false
   },
   "outputs": [],
   "source": [
    "# Split the DataFrame up into 'data' and 'labels'\n",
    "labels = full_df.values[:,-1]"
   ]
  },
  {
   "cell_type": "markdown",
   "metadata": {},
   "source": [
    "## Feature Engineering\n",
    "* One thing we do know in this experiment is that *'S:G2SEM'* is a measure of ***Beam Intensity***\n",
    "* ***Beam Intensity*** does not depend on anything in our experiment...\n",
    "* BUT many, *many* things in our experiment depend on *Beam Intensity*\n",
    "* So, normalize all *features* to ***Beam Intensity*** for more robust classifier"
   ]
  },
  {
   "cell_type": "code",
   "execution_count": 8,
   "metadata": {
    "collapsed": false
   },
   "outputs": [],
   "source": [
    "# Rescale the training data to beam intensity\n",
    "#    Beam intensity is a big number (O(10^12)), so multiply by a big constant\n",
    "#    to bring it back up to normal feature ranges \n",
    "engineered_df = pd.DataFrame( (full_df.drop('targetPos', axis=1).values / full_df[['S:G2SEM']].values) * 5000000000000.0, \n",
    "                              columns=full_df.columns[:-1] )\n",
    "\n",
    "_ = engineered_df.drop('S:G2SEM', axis=1, inplace=True)"
   ]
  },
  {
   "cell_type": "markdown",
   "metadata": {},
   "source": [
    "## Feature Scaling\n",
    "* Over time, these features may *drift* a little due to many, many effects\n",
    "* Hopefully, the relative differences are key to differentiating targets"
   ]
  },
  {
   "cell_type": "code",
   "execution_count": 9,
   "metadata": {
    "collapsed": true
   },
   "outputs": [],
   "source": [
    "data = engineered_df.values"
   ]
  },
  {
   "cell_type": "code",
   "execution_count": 10,
   "metadata": {
    "collapsed": true
   },
   "outputs": [],
   "source": [
    "scale = StandardScaler().fit(data)"
   ]
  },
  {
   "cell_type": "code",
   "execution_count": 11,
   "metadata": {
    "collapsed": false
   },
   "outputs": [],
   "source": [
    "data_scaled = scale.transform(data)"
   ]
  },
  {
   "cell_type": "markdown",
   "metadata": {},
   "source": [
    "### Split our data up into training and test sets"
   ]
  },
  {
   "cell_type": "code",
   "execution_count": 12,
   "metadata": {
    "collapsed": false
   },
   "outputs": [],
   "source": [
    "d_train, d_test, l_train, l_test \\\n",
    "    = cross_validation.train_test_split(data_scaled, labels, test_size=0.33, random_state=2)"
   ]
  },
  {
   "cell_type": "markdown",
   "metadata": {},
   "source": [
    "### Create RFC instance"
   ]
  },
  {
   "cell_type": "code",
   "execution_count": 13,
   "metadata": {
    "collapsed": false
   },
   "outputs": [],
   "source": [
    "rfc = RandomForestClassifier(n_estimators=100, max_depth=None, max_features='sqrt',\n",
    "                             min_samples_split=1, random_state=2)"
   ]
  },
  {
   "cell_type": "markdown",
   "metadata": {},
   "source": [
    "### Train on training data"
   ]
  },
  {
   "cell_type": "code",
   "execution_count": 14,
   "metadata": {
    "collapsed": false
   },
   "outputs": [
    {
     "data": {
      "text/plain": [
       "RandomForestClassifier(bootstrap=True, class_weight=None, criterion='gini',\n",
       "            max_depth=None, max_features='sqrt', max_leaf_nodes=None,\n",
       "            min_samples_leaf=1, min_samples_split=1,\n",
       "            min_weight_fraction_leaf=0.0, n_estimators=100, n_jobs=1,\n",
       "            oob_score=False, random_state=2, verbose=0, warm_start=False)"
      ]
     },
     "execution_count": 14,
     "metadata": {},
     "output_type": "execute_result"
    }
   ],
   "source": [
    "rfc.fit(d_train, l_train)"
   ]
  },
  {
   "cell_type": "code",
   "execution_count": 15,
   "metadata": {
    "collapsed": false
   },
   "outputs": [
    {
     "name": "stdout",
     "output_type": "stream",
     "text": [
      "RF prediction accuracy =  90.2%\n"
     ]
    }
   ],
   "source": [
    "result = rfc.predict(d_test)\n",
    "\n",
    "print(\"RF prediction accuracy = {0:5.1f}%\".format(100.0 * rfc.score(d_test, l_test)))"
   ]
  },
  {
   "cell_type": "markdown",
   "metadata": {},
   "source": [
    "### Create a Confusion histogram to examine prediction performance"
   ]
  },
  {
   "cell_type": "code",
   "execution_count": 79,
   "metadata": {
    "collapsed": false
   },
   "outputs": [],
   "source": [
    "def confusion(labels, results, names):\n",
    "    plt.figure(figsize=(10, 10))\n",
    "    \n",
    "    # Make a 2D histogram from the test and result arrays\n",
    "    pts, xe, ye = np.histogram2d(labels.astype(int), results.astype(int), bins=len(names))\n",
    "\n",
    "    # For simplicity we create a new DataFrame\n",
    "    pd_pts = pd.DataFrame(np.flipud(pts.astype(int)), index=np.flipud(names), columns=names )\n",
    "\n",
    "    # Display heatmap and add decorations\n",
    "    hm = sns.heatmap(pd_pts, annot=True, fmt=\"d\", cbar=False)\n",
    "\n",
    "    _, ylabels = plt.xticks()\n",
    "    _, xlabels = plt.yticks()\n",
    "    plt.setp(xlabels, rotation=45)\n",
    "    plt.setp(ylabels, rotation=45)\n",
    "    plt.xlabel(\"Actual\", size=22)\n",
    "    plt.ylabel(\"Prediction\", size=22)\n",
    "    \n",
    "    return pts\n",
    "\n",
    "def per_target_accuracy(hist2d_pts, names):\n",
    "\n",
    "    for i in range(len(names)):\n",
    "        rowsum = np.sum(hist2d_pts.T[i])\n",
    "        if rowsum>0:\n",
    "            print names[i] + \":   \\t\" + str(round((hist2d_pts[i][i] / np.sum(hist2d_pts.T[i]))*100,2)) + \"%\"\n",
    "        else:\n",
    "            print names[i] + \":   \\tN/A\""
   ]
  },
  {
   "cell_type": "code",
   "execution_count": 80,
   "metadata": {
    "collapsed": false
   },
   "outputs": [
    {
     "name": "stdout",
     "output_type": "stream",
     "text": [
      "Hydrogen:   \t93.52%\n",
      "Empty:   \t67.35%\n",
      "Deuterium:   \t97.81%\n",
      "None:   \t71.97%\n",
      "Carbon:   \t97.68%\n",
      "Iron:   \t92.51%\n",
      "Tungsten:   \t88.82%\n"
     ]
    },
    {
     "data": {
      "image/png": "[encoded data removed]",
      "text/plain": [
       "<matplotlib.figure.Figure at 0x7f689490b1d0>"
      ]
     },
     "metadata": {},
     "output_type": "display_data"
    }
   ],
   "source": [
    "# Define names for the target positions\n",
    "names = ['Hydrogen','Empty','Deuterium','None','Carbon','Iron','Tungsten']\n",
    "\n",
    "pts = confusion(l_test, result, names)\n",
    "per_target_accuracy(pts, names)"
   ]
  },
  {
   "cell_type": "markdown",
   "metadata": {},
   "source": [
    "### Domain knowledge: \"Empty\" and \"None\" Similarity\n",
    "* *\"Empty\"* is basically a hollow tin can\n",
    "* *\"None\"* is no target at all\n",
    "* Used to study background signals\n",
    "* Will be naturally very, very similar -- and we see above that they get mistaken for each other\n",
    "* We can collapse these into one category"
   ]
  },
  {
   "cell_type": "code",
   "execution_count": 81,
   "metadata": {
    "collapsed": true
   },
   "outputs": [],
   "source": [
    "def relabel(label_array):\n",
    "    # Collapse target position 4 and 2 both into category 2\n",
    "    # Then shift over the rest\n",
    "    label_array_revised = label_array.copy()\n",
    "    label_array_revised[label_array_revised == 4] = 2\n",
    "    label_array_revised[label_array_revised == 5] = 4\n",
    "    label_array_revised[label_array_revised == 6] = 5\n",
    "    label_array_revised[label_array_revised == 7] = 6\n",
    "    \n",
    "    return label_array_revised"
   ]
  },
  {
   "cell_type": "code",
   "execution_count": 82,
   "metadata": {
    "collapsed": false
   },
   "outputs": [],
   "source": [
    "# Call the new re-labelling function\n",
    "#    and modify the names array\n",
    "labels_revised = relabel(labels)\n",
    "names = ['Hydrogen','Empty/None','Deuterium','Carbon','Iron','Tungsten']"
   ]
  },
  {
   "cell_type": "code",
   "execution_count": 83,
   "metadata": {
    "collapsed": false
   },
   "outputs": [
    {
     "name": "stdout",
     "output_type": "stream",
     "text": [
      "RF prediction accuracy =  95.4%\n",
      "\n"
     ]
    }
   ],
   "source": [
    "d_train, d_test, l_train, l_test \\\n",
    "    = cross_validation.train_test_split(data_scaled, labels_revised, test_size=0.33, random_state=5)\n",
    "\n",
    "rfc = RandomForestClassifier(n_estimators=100, max_depth=None, max_features='sqrt',\n",
    "                             min_samples_split=1, random_state=2).fit(d_train, l_train)\n",
    "\n",
    "result = rfc.predict(d_test)\n",
    "print(\"RF prediction accuracy = {0:5.1f}%\\n\".format(100.0 * rfc.score(d_test, l_test)))"
   ]
  },
  {
   "cell_type": "code",
   "execution_count": 84,
   "metadata": {
    "collapsed": false
   },
   "outputs": [
    {
     "name": "stdout",
     "output_type": "stream",
     "text": [
      "Hydrogen:   \t93.43%\n",
      "Empty/None:   \t99.46%\n",
      "Deuterium:   \t98.07%\n",
      "Carbon:   \t96.17%\n",
      "Iron:   \t93.6%\n",
      "Tungsten:   \t87.91%\n"
     ]
    },
    {
     "data": {
      "image/png": "[encoded data removed]",
      "text/plain": [
       "<matplotlib.figure.Figure at 0x7f689490bf10>"
      ]
     },
     "metadata": {},
     "output_type": "display_data"
    }
   ],
   "source": [
    "pts = confusion(l_test, result, names)   # Show confusion matrix\n",
    "per_target_accuracy(pts, names)          # Print per-target accuracy"
   ]
  },
  {
   "cell_type": "markdown",
   "metadata": {},
   "source": [
    "# Most Valuable Features\n",
    "* Rank our top most valuable features\n",
    "* See if any make obvious sense\n",
    "* Perhaps use only useful features in future iterations"
   ]
  },
  {
   "cell_type": "code",
   "execution_count": 87,
   "metadata": {
    "collapsed": false
   },
   "outputs": [
    {
     "name": "stdout",
     "output_type": "stream",
     "text": [
      "Feature ranking:\n",
      "1. Feature 'G:RD3161' (0.102309)\n",
      "2. Feature 'AfterInhMATRIX5' (0.088476)\n",
      "3. Feature 'G:RD3162' (0.069903)\n",
      "4. Feature 'PrescaleMATRIX5' (0.069320)\n",
      "5. Feature 'RawMATRIX4' (0.053608)\n",
      "6. Feature 'RawTriggers' (0.050139)\n",
      "7. Feature 'RawMATRIX5' (0.043737)\n",
      "8. Feature 'PrescaleMATRIX3' (0.029260)\n",
      "9. Feature 'PrescaledTrigger' (0.026003)\n",
      "10. Feature 'TSGo' (0.024862)\n",
      "11. Feature 'TsBusy' (0.024835)\n",
      "12. Feature 'AfterInhMATRIX3' (0.024577)\n",
      "13. Feature 'AfterInhMATRIX4' (0.022194)\n",
      "14. Feature 'RawMATRIX2' (0.019794)\n",
      "15. Feature 'PrescaleMATRIX2' (0.019617)\n",
      "16. Feature 'AcceptedMATRIX1' (0.019156)\n",
      "17. Feature 'AfterInhMATRIX2' (0.018145)\n",
      "18. Feature 'PrescaleMATRIX1' (0.017360)\n",
      "19. Feature 'PrescaleMATRIX4' (0.016189)\n",
      "20. Feature 'AfterInhMATRIX1' (0.015923)\n"
     ]
    }
   ],
   "source": [
    "features = full_df.drop(['S:G2SEM','targetPos'], axis=1).columns.values\n",
    "importances = rfc.feature_importances_\n",
    "indices = np.argsort(importances)[::-1]\n",
    "\n",
    "# Print the feature ranking\n",
    "print(\"Feature ranking:\")\n",
    "\n",
    "useful_feature_list = []\n",
    "for f in range(20):\n",
    "    print(\"%d. Feature '%s' (%f)\" % (f + 1, features[indices[f]], importances[indices[f]]))\n",
    "    useful_feature_list.append(features[indices[f]])"
   ]
  },
  {
   "cell_type": "markdown",
   "metadata": {},
   "source": [
    "## Train on *useful*, vetted, approved features\n",
    "* Time-invariant (always been read out, always will be read out)for the experiment\n",
    "* Ensures that our RFC can be used on past and future data"
   ]
  },
  {
   "cell_type": "code",
   "execution_count": 89,
   "metadata": {
    "collapsed": false
   },
   "outputs": [],
   "source": [
    "reduced_df = pd.DataFrame( (full_df[useful_feature_list].values / full_df[['S:G2SEM']].values) * 5000000000000.0, \n",
    "                              columns=useful_feature_list )\n",
    "data_reduced = reduced_df.values\n",
    "scale_reduced = StandardScaler().fit(data_reduced)\n",
    "data_reduced_scaled = scale_reduced.transform(data_reduced)"
   ]
  },
  {
   "cell_type": "code",
   "execution_count": 90,
   "metadata": {
    "collapsed": false
   },
   "outputs": [
    {
     "name": "stdout",
     "output_type": "stream",
     "text": [
      "RF prediction accuracy =  95.4%\n",
      "Hydrogen:   \t93.99%\n",
      "Empty/None:   \t99.37%\n",
      "Deuterium:   \t98.12%\n",
      "Carbon:   \t92.58%\n",
      "Iron:   \t93.69%\n",
      "Tungsten:   \t86.7%\n"
     ]
    },
    {
     "data": {
      "image/png": "[encoded data removed]",
      "text/plain": [
       "<matplotlib.figure.Figure at 0x7f6892f16750>"
      ]
     },
     "metadata": {},
     "output_type": "display_data"
    }
   ],
   "source": [
    "# We've reduced the number of features and normalized them all to beam intensity\n",
    "# Let's see how that's affected our predictor\n",
    "\n",
    "d_train, d_test, l_train, l_test \\\n",
    "    = cross_validation.train_test_split(data_reduced_scaled, labels_revised, test_size=0.33, random_state=6)\n",
    "rfc = RandomForestClassifier(n_estimators=100, max_depth=None, max_features='sqrt',\n",
    "                             min_samples_split=1, random_state=2).fit(d_train, l_train)\n",
    "result = rfc.predict(d_test)\n",
    "print(\"RF prediction accuracy = {0:5.1f}%\".format(100.0 * rfc_reduced.score(d_test, l_test)))\n",
    "\n",
    "pts = confusion(l_test, result, names)\n",
    "per_target_accuracy(pts, names)"
   ]
  },
  {
   "cell_type": "markdown",
   "metadata": {},
   "source": [
    "# Cross-Validation\n",
    "* Let us exhaustively check how robust the RFC is\n",
    "* We do this by cross-validation using the whole data set\n",
    "* Randomly split the data into 10 *folds* using KFold"
   ]
  },
  {
   "cell_type": "code",
   "execution_count": 91,
   "metadata": {
    "collapsed": false
   },
   "outputs": [],
   "source": [
    "kf_total = cross_validation.StratifiedKFold(labels_revised, n_folds=10, shuffle=True, random_state=4)\n",
    "rfc_scores = cross_validation.cross_val_score(rfc, data_reduced_scaled, labels_revised, cv=kf_total)"
   ]
  },
  {
   "cell_type": "code",
   "execution_count": 92,
   "metadata": {
    "collapsed": false
   },
   "outputs": [
    {
     "name": "stdout",
     "output_type": "stream",
     "text": [
      "RFC Scores:  [ 0.951  0.958  0.96   0.96   0.957  0.964  0.963  0.963  0.96   0.967]\n",
      "Accuracy: 0.96 (+/- 0.01)\n"
     ]
    }
   ],
   "source": [
    "print \"RFC Scores: \", rfc_scores\n",
    "print \"Accuracy: %0.2f (+/- %0.2f)\" % (rfc_scores.mean(), rfc_scores.std() * 2)"
   ]
  },
  {
   "cell_type": "markdown",
   "metadata": {},
   "source": [
    "# Can we do better with K-Neighbor or SVM?"
   ]
  },
  {
   "cell_type": "code",
   "execution_count": null,
   "metadata": {
    "collapsed": true
   },
   "outputs": [],
   "source": [
    "from sklearn import neighbors\n",
    "from sklearn import svm\n",
    "from sklearn import preprocessing"
   ]
  },
  {
   "cell_type": "code",
   "execution_count": null,
   "metadata": {
    "collapsed": true
   },
   "outputs": [],
   "source": [
    "C = 1.0  # SVM regularization parameter\n",
    "k_neighbors = 15\n",
    "\n",
    "svc = svm.SVC(kernel='linear', C=C).fit(d_train, l_train)\n",
    "rbf_svc = svm.SVC(kernel='rbf', gamma=0.7, C=C).fit(d_train, l_train)\n",
    "poly_svc = svm.SVC(kernel='poly', degree=3, C=C).fit(d_train, l_train)\n",
    "lin_svc = svm.LinearSVC(C=C).fit(d_train, l_train)\n",
    "knclf = neighbors.KNeighborsClassifier(n_neighbors, weights=weights).fit(d_train, l_train)\n",
    "rfc = RandomForestClassifier(n_estimators=100, max_depth=None, max_features='sqrt',\n",
    "                             min_samples_split=1, random_state=2).fit(d_train, l_train)"
   ]
  },
  {
   "cell_type": "code",
   "execution_count": null,
   "metadata": {
    "collapsed": true
   },
   "outputs": [],
   "source": [
    "svc_result =      svc.predict(d_test)\n",
    "rbf_svc_result =  rbf_svc.predict(d_test)\n",
    "poly_svc_result = poly_svc.predict(d_test)\n",
    "lin_svc_result =  lin_svc.predict(d_test)\n",
    "knclf_result =    knclf.predict(d_test)\n",
    "rfc_result =      rfc.predict(d_test)"
   ]
  },
  {
   "cell_type": "code",
   "execution_count": null,
   "metadata": {
    "collapsed": true
   },
   "outputs": [],
   "source": [
    "print(\"SVC prediction accuracy = {0:5.1f}%\".format(100.0 * svc.score(d_test, l_test)))\n",
    "print(\"RBF SVC prediction accuracy = {0:5.1f}%\".format(100.0 * rbf_svc.score(d_test, l_test)))\n",
    "print(\"Polynomial SVC prediction accuracy = {0:5.1f}%\".format(100.0 * poly_svc.score(d_test, l_test)))\n",
    "print(\"Linear SVC prediction accuracy = {0:5.1f}%\".format(100.0 * lin_svc.score(d_test, l_test)))\n",
    "print(\"K-Neighbor prediction accuracy = {0:5.1f}%\".format(100.0 * knclf.score(d_test, l_test)))\n",
    "print(\"RFC prediction accuracy = {0:5.1f}%\".format(100.0 * rfc.score(d_test, l_test)))"
   ]
  },
  {
   "cell_type": "markdown",
   "metadata": {},
   "source": [
    "# Pickle our trained RFC for use in the field"
   ]
  },
  {
   "cell_type": "code",
   "execution_count": 337,
   "metadata": {
    "collapsed": true
   },
   "outputs": [],
   "source": [
    "from sklearn.externals import joblib"
   ]
  },
  {
   "cell_type": "code",
   "execution_count": 31,
   "metadata": {
    "collapsed": false
   },
   "outputs": [],
   "source": [
    "# Train using our full data set\n",
    "rfc_final = RandomForestClassifier(n_estimators=100, max_depth=None, max_features=None,\n",
    "                             min_samples_split=1, random_state=2).fit(data_reduced_scaled, labels_revised)"
   ]
  },
  {
   "cell_type": "code",
   "execution_count": 39,
   "metadata": {
    "collapsed": false
   },
   "outputs": [
    {
     "data": {
      "text/plain": [
       "array([[  5.892e+00,   3.189e+04,   1.023e+01,   1.344e+01,   1.992e+03,\n",
       "          1.550e+01,   1.903e+03,   2.274e+06,   1.907e+03,   2.215e+03,\n",
       "          1.115e+07,   2.228e+03,   2.214e+03,   4.057e+05,   1.907e+03,\n",
       "          1.596e+06,   1.126e+07,   3.017e+05],\n",
       "       [  5.108e+00,   2.874e+04,   9.287e+00,   1.238e+01,   1.879e+03,\n",
       "          1.548e+01,   1.843e+03,   1.944e+06,   1.845e+03,   2.182e+03,\n",
       "          9.870e+06,   2.199e+03,   2.181e+03,   3.350e+05,   1.845e+03,\n",
       "          1.665e+06,   1.024e+07,   3.471e+05],\n",
       "       [  6.267e+00,   2.591e+04,   1.077e+01,   1.071e+01,   1.483e+03,\n",
       "          1.286e+01,   1.385e+03,   2.190e+06,   1.385e+03,   1.671e+03,\n",
       "          9.214e+06,   1.684e+03,   1.670e+03,   3.685e+05,   1.386e+03,\n",
       "          1.578e+06,   1.031e+07,   2.885e+05],\n",
       "       [  6.472e+00,   2.698e+04,   1.079e+01,   1.130e+01,   1.500e+03,\n",
       "          1.233e+01,   1.419e+03,   2.189e+06,   1.420e+03,   1.700e+03,\n",
       "          9.810e+06,   1.706e+03,   1.699e+03,   3.938e+05,   1.419e+03,\n",
       "          1.545e+06,   1.045e+07,   2.732e+05],\n",
       "       [  5.518e+00,   3.790e+04,   9.503e+00,   1.533e+01,   2.382e+03,\n",
       "          1.941e+01,   2.210e+03,   2.376e+06,   2.210e+03,   2.527e+03,\n",
       "          1.246e+07,   2.549e+03,   2.526e+03,   4.301e+05,   2.210e+03,\n",
       "          1.662e+06,   1.216e+07,   3.206e+05]])"
      ]
     },
     "execution_count": 39,
     "metadata": {},
     "output_type": "execute_result"
    }
   ],
   "source": [
    "data_reduced[:5]"
   ]
  },
  {
   "cell_type": "code",
   "execution_count": 13,
   "metadata": {
    "collapsed": true
   },
   "outputs": [],
   "source": [
    "test_df = pd.read_csv('testrun.csv', index_col='spillID')"
   ]
  },
  {
   "cell_type": "code",
   "execution_count": 16,
   "metadata": {
    "collapsed": false
   },
   "outputs": [
    {
     "data": {
      "text/plain": [
       "array([ 3.,  3.,  2.,  4.,  5.,  6.,  5.,  2.,  3.,  3.,  2.,  1.,  1.,\n",
       "        1.,  1.,  1.,  1.,  1.,  1.,  1.,  1.,  2.,  3.,  3.,  3.,  2.,\n",
       "        4.,  5.,  6.,  5.,  2.,  3.,  3.,  2.,  1.,  1.,  1.])"
      ]
     },
     "execution_count": 16,
     "metadata": {},
     "output_type": "execute_result"
    }
   ],
   "source": [
    "test_labels = test_df.values[:,-1]\n",
    "test_labels = relabel(test_labels)"
   ]
  },
  {
   "cell_type": "code",
   "execution_count": 30,
   "metadata": {
    "collapsed": true
   },
   "outputs": [],
   "source": [
    "test_data = test_df[useful_feature_list]"
   ]
  },
  {
   "cell_type": "code",
   "execution_count": 32,
   "metadata": {
    "collapsed": false
   },
   "outputs": [
    {
     "name": "stdout",
     "output_type": "stream",
     "text": [
      "RF prediction accuracy =  27.0%\n",
      "Hydrogen:   \t14.29%\n",
      "Empty/None:   \t38.89%\n",
      "Deuterium:   \tN/A\n",
      "Carbon:   \tN/A\n",
      "Iron:   \tN/A\n",
      "Tungsten:   \t16.67%\n"
     ]
    },
    {
     "data": {
      "image/png": "[encoded data removed]",
      "text/plain": [
       "<matplotlib.figure.Figure at 0x7f6892f3e4d0>"
      ]
     },
     "metadata": {},
     "output_type": "display_data"
    }
   ],
   "source": [
    "result = rfc_final.predict(test_data)\n",
    "print(\"RF prediction accuracy = {0:5.1f}%\".format(100.0 * rfc_final.score(test_data, test_labels)))\n",
    "\n",
    "pts = confusion(test_labels, result, names)\n",
    "per_target_accuracy(pts, names)"
   ]
  },
  {
   "cell_type": "code",
   "execution_count": 35,
   "metadata": {
    "collapsed": false
   },
   "outputs": [],
   "source": [
    "from sklearn.metrics import confusion_matrix"
   ]
  },
  {
   "cell_type": "code",
   "execution_count": 38,
   "metadata": {
    "collapsed": false
   },
   "outputs": [
    {
     "name": "stdout",
     "output_type": "stream",
     "text": [
      "[ 3.  3.  2.  4.  5.  6.  5.  2.  3.  3.  2.  1.  1.  1.  1.  1.  1.  1.\n",
      "  1.  1.  1.  2.  3.  3.  3.  2.  4.  5.  6.  5.  2.  3.  3.  2.  1.  1.\n",
      "  1.]\n",
      "[ 5.  5.  2.  2.  2.  5.  2.  2.  1.  5.  2.  2.  1.  5.  5.  2.  2.  5.\n",
      "  2.  2.  2.  2.  1.  1.  5.  2.  1.  5.  5.  5.  2.  1.  1.  2.  5.  2.\n",
      "  2.]\n"
     ]
    }
   ],
   "source": [
    "print test_labels\n",
    "print result"
   ]
  },
  {
   "cell_type": "code",
   "execution_count": 36,
   "metadata": {
    "collapsed": false
   },
   "outputs": [
    {
     "name": "stderr",
     "output_type": "stream",
     "text": [
      "/usr/local/lib/python2.7/dist-packages/numpy/core/fromnumeric.py:2499: VisibleDeprecationWarning: `rank` is deprecated; use the `ndim` attribute or function instead. To find the rank of a matrix see `numpy.linalg.matrix_rank`.\n",
      "  VisibleDeprecationWarning)\n"
     ]
    },
    {
     "data": {
      "text/plain": [
       "array([[1, 8, 0, 0, 4, 0],\n",
       "       [0, 7, 0, 0, 0, 0],\n",
       "       [5, 0, 0, 0, 4, 0],\n",
       "       [1, 1, 0, 0, 0, 0],\n",
       "       [0, 2, 0, 0, 2, 0],\n",
       "       [0, 0, 0, 0, 2, 0]])"
      ]
     },
     "execution_count": 36,
     "metadata": {},
     "output_type": "execute_result"
    }
   ],
   "source": [
    "confusion_matrix(test_labels, result)"
   ]
  },
  {
   "cell_type": "code",
   "execution_count": 356,
   "metadata": {
    "collapsed": true
   },
   "outputs": [
    {
     "data": {
      "text/plain": [
       "['models/target_rfc_roadset62.pkl',\n",
       " 'models/target_rfc_roadset62.pkl_01.npy',\n",
       " 'models/target_rfc_roadset62.pkl_02.npy',\n",
       " 'models/target_rfc_roadset62.pkl_03.npy',\n",
       " 'models/target_rfc_roadset62.pkl_04.npy',\n",
       " 'models/target_rfc_roadset62.pkl_05.npy',\n",
       " 'models/target_rfc_roadset62.pkl_06.npy',\n",
       " 'models/target_rfc_roadset62.pkl_07.npy',\n",
       " 'models/target_rfc_roadset62.pkl_08.npy',\n",
       " 'models/target_rfc_roadset62.pkl_09.npy',\n",
       " 'models/target_rfc_roadset62.pkl_10.npy',\n",
       " 'models/target_rfc_roadset62.pkl_11.npy',\n",
       " 'models/target_rfc_roadset62.pkl_12.npy',\n",
       " 'models/target_rfc_roadset62.pkl_13.npy',\n",
       " 'models/target_rfc_roadset62.pkl_14.npy',\n",
       " 'models/target_rfc_roadset62.pkl_15.npy',\n",
       " 'models/target_rfc_roadset62.pkl_16.npy',\n",
       " 'models/target_rfc_roadset62.pkl_17.npy',\n",
       " 'models/target_rfc_roadset62.pkl_18.npy',\n",
       " 'models/target_rfc_roadset62.pkl_19.npy',\n",
       " 'models/target_rfc_roadset62.pkl_20.npy',\n",
       " 'models/target_rfc_roadset62.pkl_21.npy',\n",
       " 'models/target_rfc_roadset62.pkl_22.npy',\n",
       " 'models/target_rfc_roadset62.pkl_23.npy',\n",
       " 'models/target_rfc_roadset62.pkl_24.npy',\n",
       " 'models/target_rfc_roadset62.pkl_25.npy',\n",
       " 'models/target_rfc_roadset62.pkl_26.npy',\n",
       " 'models/target_rfc_roadset62.pkl_27.npy',\n",
       " 'models/target_rfc_roadset62.pkl_28.npy',\n",
       " 'models/target_rfc_roadset62.pkl_29.npy',\n",
       " 'models/target_rfc_roadset62.pkl_30.npy',\n",
       " 'models/target_rfc_roadset62.pkl_31.npy',\n",
       " 'models/target_rfc_roadset62.pkl_32.npy',\n",
       " 'models/target_rfc_roadset62.pkl_33.npy',\n",
       " 'models/target_rfc_roadset62.pkl_34.npy',\n",
       " 'models/target_rfc_roadset62.pkl_35.npy',\n",
       " 'models/target_rfc_roadset62.pkl_36.npy',\n",
       " 'models/target_rfc_roadset62.pkl_37.npy',\n",
       " 'models/target_rfc_roadset62.pkl_38.npy',\n",
       " 'models/target_rfc_roadset62.pkl_39.npy',\n",
       " 'models/target_rfc_roadset62.pkl_40.npy',\n",
       " 'models/target_rfc_roadset62.pkl_41.npy',\n",
       " 'models/target_rfc_roadset62.pkl_42.npy',\n",
       " 'models/target_rfc_roadset62.pkl_43.npy',\n",
       " 'models/target_rfc_roadset62.pkl_44.npy',\n",
       " 'models/target_rfc_roadset62.pkl_45.npy',\n",
       " 'models/target_rfc_roadset62.pkl_46.npy',\n",
       " 'models/target_rfc_roadset62.pkl_47.npy',\n",
       " 'models/target_rfc_roadset62.pkl_48.npy',\n",
       " 'models/target_rfc_roadset62.pkl_49.npy',\n",
       " 'models/target_rfc_roadset62.pkl_50.npy',\n",
       " 'models/target_rfc_roadset62.pkl_51.npy',\n",
       " 'models/target_rfc_roadset62.pkl_52.npy',\n",
       " 'models/target_rfc_roadset62.pkl_53.npy',\n",
       " 'models/target_rfc_roadset62.pkl_54.npy',\n",
       " 'models/target_rfc_roadset62.pkl_55.npy',\n",
       " 'models/target_rfc_roadset62.pkl_56.npy',\n",
       " 'models/target_rfc_roadset62.pkl_57.npy',\n",
       " 'models/target_rfc_roadset62.pkl_58.npy',\n",
       " 'models/target_rfc_roadset62.pkl_59.npy',\n",
       " 'models/target_rfc_roadset62.pkl_60.npy',\n",
       " 'models/target_rfc_roadset62.pkl_61.npy',\n",
       " 'models/target_rfc_roadset62.pkl_62.npy',\n",
       " 'models/target_rfc_roadset62.pkl_63.npy',\n",
       " 'models/target_rfc_roadset62.pkl_64.npy',\n",
       " 'models/target_rfc_roadset62.pkl_65.npy',\n",
       " 'models/target_rfc_roadset62.pkl_66.npy',\n",
       " 'models/target_rfc_roadset62.pkl_67.npy',\n",
       " 'models/target_rfc_roadset62.pkl_68.npy',\n",
       " 'models/target_rfc_roadset62.pkl_69.npy',\n",
       " 'models/target_rfc_roadset62.pkl_70.npy',\n",
       " 'models/target_rfc_roadset62.pkl_71.npy',\n",
       " 'models/target_rfc_roadset62.pkl_72.npy',\n",
       " 'models/target_rfc_roadset62.pkl_73.npy',\n",
       " 'models/target_rfc_roadset62.pkl_74.npy',\n",
       " 'models/target_rfc_roadset62.pkl_75.npy',\n",
       " 'models/target_rfc_roadset62.pkl_76.npy',\n",
       " 'models/target_rfc_roadset62.pkl_77.npy',\n",
       " 'models/target_rfc_roadset62.pkl_78.npy',\n",
       " 'models/target_rfc_roadset62.pkl_79.npy',\n",
       " 'models/target_rfc_roadset62.pkl_80.npy',\n",
       " 'models/target_rfc_roadset62.pkl_81.npy',\n",
       " 'models/target_rfc_roadset62.pkl_82.npy',\n",
       " 'models/target_rfc_roadset62.pkl_83.npy',\n",
       " 'models/target_rfc_roadset62.pkl_84.npy',\n",
       " 'models/target_rfc_roadset62.pkl_85.npy',\n",
       " 'models/target_rfc_roadset62.pkl_86.npy',\n",
       " 'models/target_rfc_roadset62.pkl_87.npy',\n",
       " 'models/target_rfc_roadset62.pkl_88.npy',\n",
       " 'models/target_rfc_roadset62.pkl_89.npy',\n",
       " 'models/target_rfc_roadset62.pkl_90.npy',\n",
       " 'models/target_rfc_roadset62.pkl_91.npy',\n",
       " 'models/target_rfc_roadset62.pkl_92.npy',\n",
       " 'models/target_rfc_roadset62.pkl_93.npy',\n",
       " 'models/target_rfc_roadset62.pkl_94.npy',\n",
       " 'models/target_rfc_roadset62.pkl_95.npy',\n",
       " 'models/target_rfc_roadset62.pkl_96.npy',\n",
       " 'models/target_rfc_roadset62.pkl_97.npy',\n",
       " 'models/target_rfc_roadset62.pkl_98.npy',\n",
       " 'models/target_rfc_roadset62.pkl_99.npy',\n",
       " 'models/target_rfc_roadset62.pkl_100.npy',\n",
       " 'models/target_rfc_roadset62.pkl_101.npy',\n",
       " 'models/target_rfc_roadset62.pkl_102.npy',\n",
       " 'models/target_rfc_roadset62.pkl_103.npy',\n",
       " 'models/target_rfc_roadset62.pkl_104.npy',\n",
       " 'models/target_rfc_roadset62.pkl_105.npy',\n",
       " 'models/target_rfc_roadset62.pkl_106.npy',\n",
       " 'models/target_rfc_roadset62.pkl_107.npy',\n",
       " 'models/target_rfc_roadset62.pkl_108.npy',\n",
       " 'models/target_rfc_roadset62.pkl_109.npy',\n",
       " 'models/target_rfc_roadset62.pkl_110.npy',\n",
       " 'models/target_rfc_roadset62.pkl_111.npy',\n",
       " 'models/target_rfc_roadset62.pkl_112.npy',\n",
       " 'models/target_rfc_roadset62.pkl_113.npy',\n",
       " 'models/target_rfc_roadset62.pkl_114.npy',\n",
       " 'models/target_rfc_roadset62.pkl_115.npy',\n",
       " 'models/target_rfc_roadset62.pkl_116.npy',\n",
       " 'models/target_rfc_roadset62.pkl_117.npy',\n",
       " 'models/target_rfc_roadset62.pkl_118.npy',\n",
       " 'models/target_rfc_roadset62.pkl_119.npy',\n",
       " 'models/target_rfc_roadset62.pkl_120.npy',\n",
       " 'models/target_rfc_roadset62.pkl_121.npy',\n",
       " 'models/target_rfc_roadset62.pkl_122.npy',\n",
       " 'models/target_rfc_roadset62.pkl_123.npy',\n",
       " 'models/target_rfc_roadset62.pkl_124.npy',\n",
       " 'models/target_rfc_roadset62.pkl_125.npy',\n",
       " 'models/target_rfc_roadset62.pkl_126.npy',\n",
       " 'models/target_rfc_roadset62.pkl_127.npy',\n",
       " 'models/target_rfc_roadset62.pkl_128.npy',\n",
       " 'models/target_rfc_roadset62.pkl_129.npy',\n",
       " 'models/target_rfc_roadset62.pkl_130.npy',\n",
       " 'models/target_rfc_roadset62.pkl_131.npy',\n",
       " 'models/target_rfc_roadset62.pkl_132.npy',\n",
       " 'models/target_rfc_roadset62.pkl_133.npy',\n",
       " 'models/target_rfc_roadset62.pkl_134.npy',\n",
       " 'models/target_rfc_roadset62.pkl_135.npy',\n",
       " 'models/target_rfc_roadset62.pkl_136.npy',\n",
       " 'models/target_rfc_roadset62.pkl_137.npy',\n",
       " 'models/target_rfc_roadset62.pkl_138.npy',\n",
       " 'models/target_rfc_roadset62.pkl_139.npy',\n",
       " 'models/target_rfc_roadset62.pkl_140.npy',\n",
       " 'models/target_rfc_roadset62.pkl_141.npy',\n",
       " 'models/target_rfc_roadset62.pkl_142.npy',\n",
       " 'models/target_rfc_roadset62.pkl_143.npy',\n",
       " 'models/target_rfc_roadset62.pkl_144.npy',\n",
       " 'models/target_rfc_roadset62.pkl_145.npy',\n",
       " 'models/target_rfc_roadset62.pkl_146.npy',\n",
       " 'models/target_rfc_roadset62.pkl_147.npy',\n",
       " 'models/target_rfc_roadset62.pkl_148.npy',\n",
       " 'models/target_rfc_roadset62.pkl_149.npy',\n",
       " 'models/target_rfc_roadset62.pkl_150.npy',\n",
       " 'models/target_rfc_roadset62.pkl_151.npy',\n",
       " 'models/target_rfc_roadset62.pkl_152.npy',\n",
       " 'models/target_rfc_roadset62.pkl_153.npy',\n",
       " 'models/target_rfc_roadset62.pkl_154.npy',\n",
       " 'models/target_rfc_roadset62.pkl_155.npy',\n",
       " 'models/target_rfc_roadset62.pkl_156.npy',\n",
       " 'models/target_rfc_roadset62.pkl_157.npy',\n",
       " 'models/target_rfc_roadset62.pkl_158.npy',\n",
       " 'models/target_rfc_roadset62.pkl_159.npy',\n",
       " 'models/target_rfc_roadset62.pkl_160.npy',\n",
       " 'models/target_rfc_roadset62.pkl_161.npy',\n",
       " 'models/target_rfc_roadset62.pkl_162.npy',\n",
       " 'models/target_rfc_roadset62.pkl_163.npy',\n",
       " 'models/target_rfc_roadset62.pkl_164.npy',\n",
       " 'models/target_rfc_roadset62.pkl_165.npy',\n",
       " 'models/target_rfc_roadset62.pkl_166.npy',\n",
       " 'models/target_rfc_roadset62.pkl_167.npy',\n",
       " 'models/target_rfc_roadset62.pkl_168.npy',\n",
       " 'models/target_rfc_roadset62.pkl_169.npy',\n",
       " 'models/target_rfc_roadset62.pkl_170.npy',\n",
       " 'models/target_rfc_roadset62.pkl_171.npy',\n",
       " 'models/target_rfc_roadset62.pkl_172.npy',\n",
       " 'models/target_rfc_roadset62.pkl_173.npy',\n",
       " 'models/target_rfc_roadset62.pkl_174.npy',\n",
       " 'models/target_rfc_roadset62.pkl_175.npy',\n",
       " 'models/target_rfc_roadset62.pkl_176.npy',\n",
       " 'models/target_rfc_roadset62.pkl_177.npy',\n",
       " 'models/target_rfc_roadset62.pkl_178.npy',\n",
       " 'models/target_rfc_roadset62.pkl_179.npy',\n",
       " 'models/target_rfc_roadset62.pkl_180.npy',\n",
       " 'models/target_rfc_roadset62.pkl_181.npy',\n",
       " 'models/target_rfc_roadset62.pkl_182.npy',\n",
       " 'models/target_rfc_roadset62.pkl_183.npy',\n",
       " 'models/target_rfc_roadset62.pkl_184.npy',\n",
       " 'models/target_rfc_roadset62.pkl_185.npy',\n",
       " 'models/target_rfc_roadset62.pkl_186.npy',\n",
       " 'models/target_rfc_roadset62.pkl_187.npy',\n",
       " 'models/target_rfc_roadset62.pkl_188.npy',\n",
       " 'models/target_rfc_roadset62.pkl_189.npy',\n",
       " 'models/target_rfc_roadset62.pkl_190.npy',\n",
       " 'models/target_rfc_roadset62.pkl_191.npy',\n",
       " 'models/target_rfc_roadset62.pkl_192.npy',\n",
       " 'models/target_rfc_roadset62.pkl_193.npy',\n",
       " 'models/target_rfc_roadset62.pkl_194.npy',\n",
       " 'models/target_rfc_roadset62.pkl_195.npy',\n",
       " 'models/target_rfc_roadset62.pkl_196.npy',\n",
       " 'models/target_rfc_roadset62.pkl_197.npy',\n",
       " 'models/target_rfc_roadset62.pkl_198.npy',\n",
       " 'models/target_rfc_roadset62.pkl_199.npy',\n",
       " 'models/target_rfc_roadset62.pkl_200.npy',\n",
       " 'models/target_rfc_roadset62.pkl_201.npy',\n",
       " 'models/target_rfc_roadset62.pkl_202.npy',\n",
       " 'models/target_rfc_roadset62.pkl_203.npy',\n",
       " 'models/target_rfc_roadset62.pkl_204.npy',\n",
       " 'models/target_rfc_roadset62.pkl_205.npy',\n",
       " 'models/target_rfc_roadset62.pkl_206.npy',\n",
       " 'models/target_rfc_roadset62.pkl_207.npy',\n",
       " 'models/target_rfc_roadset62.pkl_208.npy',\n",
       " 'models/target_rfc_roadset62.pkl_209.npy',\n",
       " 'models/target_rfc_roadset62.pkl_210.npy',\n",
       " 'models/target_rfc_roadset62.pkl_211.npy',\n",
       " 'models/target_rfc_roadset62.pkl_212.npy',\n",
       " 'models/target_rfc_roadset62.pkl_213.npy',\n",
       " 'models/target_rfc_roadset62.pkl_214.npy',\n",
       " 'models/target_rfc_roadset62.pkl_215.npy',\n",
       " 'models/target_rfc_roadset62.pkl_216.npy',\n",
       " 'models/target_rfc_roadset62.pkl_217.npy',\n",
       " 'models/target_rfc_roadset62.pkl_218.npy',\n",
       " 'models/target_rfc_roadset62.pkl_219.npy',\n",
       " 'models/target_rfc_roadset62.pkl_220.npy',\n",
       " 'models/target_rfc_roadset62.pkl_221.npy',\n",
       " 'models/target_rfc_roadset62.pkl_222.npy',\n",
       " 'models/target_rfc_roadset62.pkl_223.npy',\n",
       " 'models/target_rfc_roadset62.pkl_224.npy',\n",
       " 'models/target_rfc_roadset62.pkl_225.npy',\n",
       " 'models/target_rfc_roadset62.pkl_226.npy',\n",
       " 'models/target_rfc_roadset62.pkl_227.npy',\n",
       " 'models/target_rfc_roadset62.pkl_228.npy',\n",
       " 'models/target_rfc_roadset62.pkl_229.npy',\n",
       " 'models/target_rfc_roadset62.pkl_230.npy',\n",
       " 'models/target_rfc_roadset62.pkl_231.npy',\n",
       " 'models/target_rfc_roadset62.pkl_232.npy',\n",
       " 'models/target_rfc_roadset62.pkl_233.npy',\n",
       " 'models/target_rfc_roadset62.pkl_234.npy',\n",
       " 'models/target_rfc_roadset62.pkl_235.npy',\n",
       " 'models/target_rfc_roadset62.pkl_236.npy',\n",
       " 'models/target_rfc_roadset62.pkl_237.npy',\n",
       " 'models/target_rfc_roadset62.pkl_238.npy',\n",
       " 'models/target_rfc_roadset62.pkl_239.npy',\n",
       " 'models/target_rfc_roadset62.pkl_240.npy',\n",
       " 'models/target_rfc_roadset62.pkl_241.npy',\n",
       " 'models/target_rfc_roadset62.pkl_242.npy',\n",
       " 'models/target_rfc_roadset62.pkl_243.npy',\n",
       " 'models/target_rfc_roadset62.pkl_244.npy',\n",
       " 'models/target_rfc_roadset62.pkl_245.npy',\n",
       " 'models/target_rfc_roadset62.pkl_246.npy',\n",
       " 'models/target_rfc_roadset62.pkl_247.npy',\n",
       " 'models/target_rfc_roadset62.pkl_248.npy',\n",
       " 'models/target_rfc_roadset62.pkl_249.npy',\n",
       " 'models/target_rfc_roadset62.pkl_250.npy',\n",
       " 'models/target_rfc_roadset62.pkl_251.npy',\n",
       " 'models/target_rfc_roadset62.pkl_252.npy',\n",
       " 'models/target_rfc_roadset62.pkl_253.npy',\n",
       " 'models/target_rfc_roadset62.pkl_254.npy',\n",
       " 'models/target_rfc_roadset62.pkl_255.npy',\n",
       " 'models/target_rfc_roadset62.pkl_256.npy',\n",
       " 'models/target_rfc_roadset62.pkl_257.npy',\n",
       " 'models/target_rfc_roadset62.pkl_258.npy',\n",
       " 'models/target_rfc_roadset62.pkl_259.npy',\n",
       " 'models/target_rfc_roadset62.pkl_260.npy',\n",
       " 'models/target_rfc_roadset62.pkl_261.npy',\n",
       " 'models/target_rfc_roadset62.pkl_262.npy',\n",
       " 'models/target_rfc_roadset62.pkl_263.npy',\n",
       " 'models/target_rfc_roadset62.pkl_264.npy',\n",
       " 'models/target_rfc_roadset62.pkl_265.npy',\n",
       " 'models/target_rfc_roadset62.pkl_266.npy',\n",
       " 'models/target_rfc_roadset62.pkl_267.npy',\n",
       " 'models/target_rfc_roadset62.pkl_268.npy',\n",
       " 'models/target_rfc_roadset62.pkl_269.npy',\n",
       " 'models/target_rfc_roadset62.pkl_270.npy',\n",
       " 'models/target_rfc_roadset62.pkl_271.npy',\n",
       " 'models/target_rfc_roadset62.pkl_272.npy',\n",
       " 'models/target_rfc_roadset62.pkl_273.npy',\n",
       " 'models/target_rfc_roadset62.pkl_274.npy',\n",
       " 'models/target_rfc_roadset62.pkl_275.npy',\n",
       " 'models/target_rfc_roadset62.pkl_276.npy',\n",
       " 'models/target_rfc_roadset62.pkl_277.npy',\n",
       " 'models/target_rfc_roadset62.pkl_278.npy',\n",
       " 'models/target_rfc_roadset62.pkl_279.npy',\n",
       " 'models/target_rfc_roadset62.pkl_280.npy',\n",
       " 'models/target_rfc_roadset62.pkl_281.npy',\n",
       " 'models/target_rfc_roadset62.pkl_282.npy',\n",
       " 'models/target_rfc_roadset62.pkl_283.npy',\n",
       " 'models/target_rfc_roadset62.pkl_284.npy',\n",
       " 'models/target_rfc_roadset62.pkl_285.npy',\n",
       " 'models/target_rfc_roadset62.pkl_286.npy',\n",
       " 'models/target_rfc_roadset62.pkl_287.npy',\n",
       " 'models/target_rfc_roadset62.pkl_288.npy',\n",
       " 'models/target_rfc_roadset62.pkl_289.npy',\n",
       " 'models/target_rfc_roadset62.pkl_290.npy',\n",
       " 'models/target_rfc_roadset62.pkl_291.npy',\n",
       " 'models/target_rfc_roadset62.pkl_292.npy',\n",
       " 'models/target_rfc_roadset62.pkl_293.npy',\n",
       " 'models/target_rfc_roadset62.pkl_294.npy',\n",
       " 'models/target_rfc_roadset62.pkl_295.npy',\n",
       " 'models/target_rfc_roadset62.pkl_296.npy',\n",
       " 'models/target_rfc_roadset62.pkl_297.npy',\n",
       " 'models/target_rfc_roadset62.pkl_298.npy',\n",
       " 'models/target_rfc_roadset62.pkl_299.npy',\n",
       " 'models/target_rfc_roadset62.pkl_300.npy',\n",
       " 'models/target_rfc_roadset62.pkl_301.npy',\n",
       " 'models/target_rfc_roadset62.pkl_302.npy',\n",
       " 'models/target_rfc_roadset62.pkl_303.npy',\n",
       " 'models/target_rfc_roadset62.pkl_304.npy',\n",
       " 'models/target_rfc_roadset62.pkl_305.npy',\n",
       " 'models/target_rfc_roadset62.pkl_306.npy',\n",
       " 'models/target_rfc_roadset62.pkl_307.npy',\n",
       " 'models/target_rfc_roadset62.pkl_308.npy',\n",
       " 'models/target_rfc_roadset62.pkl_309.npy',\n",
       " 'models/target_rfc_roadset62.pkl_310.npy',\n",
       " 'models/target_rfc_roadset62.pkl_311.npy',\n",
       " 'models/target_rfc_roadset62.pkl_312.npy',\n",
       " 'models/target_rfc_roadset62.pkl_313.npy',\n",
       " 'models/target_rfc_roadset62.pkl_314.npy',\n",
       " 'models/target_rfc_roadset62.pkl_315.npy',\n",
       " 'models/target_rfc_roadset62.pkl_316.npy',\n",
       " 'models/target_rfc_roadset62.pkl_317.npy',\n",
       " 'models/target_rfc_roadset62.pkl_318.npy',\n",
       " 'models/target_rfc_roadset62.pkl_319.npy',\n",
       " 'models/target_rfc_roadset62.pkl_320.npy',\n",
       " 'models/target_rfc_roadset62.pkl_321.npy',\n",
       " 'models/target_rfc_roadset62.pkl_322.npy',\n",
       " 'models/target_rfc_roadset62.pkl_323.npy',\n",
       " 'models/target_rfc_roadset62.pkl_324.npy',\n",
       " 'models/target_rfc_roadset62.pkl_325.npy',\n",
       " 'models/target_rfc_roadset62.pkl_326.npy',\n",
       " 'models/target_rfc_roadset62.pkl_327.npy',\n",
       " 'models/target_rfc_roadset62.pkl_328.npy',\n",
       " 'models/target_rfc_roadset62.pkl_329.npy',\n",
       " 'models/target_rfc_roadset62.pkl_330.npy',\n",
       " 'models/target_rfc_roadset62.pkl_331.npy',\n",
       " 'models/target_rfc_roadset62.pkl_332.npy',\n",
       " 'models/target_rfc_roadset62.pkl_333.npy',\n",
       " 'models/target_rfc_roadset62.pkl_334.npy',\n",
       " 'models/target_rfc_roadset62.pkl_335.npy',\n",
       " 'models/target_rfc_roadset62.pkl_336.npy',\n",
       " 'models/target_rfc_roadset62.pkl_337.npy',\n",
       " 'models/target_rfc_roadset62.pkl_338.npy',\n",
       " 'models/target_rfc_roadset62.pkl_339.npy',\n",
       " 'models/target_rfc_roadset62.pkl_340.npy',\n",
       " 'models/target_rfc_roadset62.pkl_341.npy',\n",
       " 'models/target_rfc_roadset62.pkl_342.npy',\n",
       " 'models/target_rfc_roadset62.pkl_343.npy',\n",
       " 'models/target_rfc_roadset62.pkl_344.npy',\n",
       " 'models/target_rfc_roadset62.pkl_345.npy',\n",
       " 'models/target_rfc_roadset62.pkl_346.npy',\n",
       " 'models/target_rfc_roadset62.pkl_347.npy',\n",
       " 'models/target_rfc_roadset62.pkl_348.npy',\n",
       " 'models/target_rfc_roadset62.pkl_349.npy',\n",
       " 'models/target_rfc_roadset62.pkl_350.npy',\n",
       " 'models/target_rfc_roadset62.pkl_351.npy',\n",
       " 'models/target_rfc_roadset62.pkl_352.npy',\n",
       " 'models/target_rfc_roadset62.pkl_353.npy',\n",
       " 'models/target_rfc_roadset62.pkl_354.npy',\n",
       " 'models/target_rfc_roadset62.pkl_355.npy',\n",
       " 'models/target_rfc_roadset62.pkl_356.npy',\n",
       " 'models/target_rfc_roadset62.pkl_357.npy',\n",
       " 'models/target_rfc_roadset62.pkl_358.npy',\n",
       " 'models/target_rfc_roadset62.pkl_359.npy',\n",
       " 'models/target_rfc_roadset62.pkl_360.npy',\n",
       " 'models/target_rfc_roadset62.pkl_361.npy',\n",
       " 'models/target_rfc_roadset62.pkl_362.npy',\n",
       " 'models/target_rfc_roadset62.pkl_363.npy',\n",
       " 'models/target_rfc_roadset62.pkl_364.npy',\n",
       " 'models/target_rfc_roadset62.pkl_365.npy',\n",
       " 'models/target_rfc_roadset62.pkl_366.npy',\n",
       " 'models/target_rfc_roadset62.pkl_367.npy',\n",
       " 'models/target_rfc_roadset62.pkl_368.npy',\n",
       " 'models/target_rfc_roadset62.pkl_369.npy',\n",
       " 'models/target_rfc_roadset62.pkl_370.npy',\n",
       " 'models/target_rfc_roadset62.pkl_371.npy',\n",
       " 'models/target_rfc_roadset62.pkl_372.npy',\n",
       " 'models/target_rfc_roadset62.pkl_373.npy',\n",
       " 'models/target_rfc_roadset62.pkl_374.npy',\n",
       " 'models/target_rfc_roadset62.pkl_375.npy',\n",
       " 'models/target_rfc_roadset62.pkl_376.npy',\n",
       " 'models/target_rfc_roadset62.pkl_377.npy',\n",
       " 'models/target_rfc_roadset62.pkl_378.npy',\n",
       " 'models/target_rfc_roadset62.pkl_379.npy',\n",
       " 'models/target_rfc_roadset62.pkl_380.npy',\n",
       " 'models/target_rfc_roadset62.pkl_381.npy',\n",
       " 'models/target_rfc_roadset62.pkl_382.npy',\n",
       " 'models/target_rfc_roadset62.pkl_383.npy',\n",
       " 'models/target_rfc_roadset62.pkl_384.npy',\n",
       " 'models/target_rfc_roadset62.pkl_385.npy',\n",
       " 'models/target_rfc_roadset62.pkl_386.npy',\n",
       " 'models/target_rfc_roadset62.pkl_387.npy',\n",
       " 'models/target_rfc_roadset62.pkl_388.npy',\n",
       " 'models/target_rfc_roadset62.pkl_389.npy',\n",
       " 'models/target_rfc_roadset62.pkl_390.npy',\n",
       " 'models/target_rfc_roadset62.pkl_391.npy',\n",
       " 'models/target_rfc_roadset62.pkl_392.npy',\n",
       " 'models/target_rfc_roadset62.pkl_393.npy',\n",
       " 'models/target_rfc_roadset62.pkl_394.npy',\n",
       " 'models/target_rfc_roadset62.pkl_395.npy',\n",
       " 'models/target_rfc_roadset62.pkl_396.npy',\n",
       " 'models/target_rfc_roadset62.pkl_397.npy',\n",
       " 'models/target_rfc_roadset62.pkl_398.npy',\n",
       " 'models/target_rfc_roadset62.pkl_399.npy',\n",
       " 'models/target_rfc_roadset62.pkl_400.npy',\n",
       " 'models/target_rfc_roadset62.pkl_401.npy',\n",
       " 'models/target_rfc_roadset62.pkl_402.npy',\n",
       " 'models/target_rfc_roadset62.pkl_403.npy',\n",
       " 'models/target_rfc_roadset62.pkl_404.npy',\n",
       " 'models/target_rfc_roadset62.pkl_405.npy',\n",
       " 'models/target_rfc_roadset62.pkl_406.npy',\n",
       " 'models/target_rfc_roadset62.pkl_407.npy',\n",
       " 'models/target_rfc_roadset62.pkl_408.npy',\n",
       " 'models/target_rfc_roadset62.pkl_409.npy',\n",
       " 'models/target_rfc_roadset62.pkl_410.npy',\n",
       " 'models/target_rfc_roadset62.pkl_411.npy',\n",
       " 'models/target_rfc_roadset62.pkl_412.npy',\n",
       " 'models/target_rfc_roadset62.pkl_413.npy',\n",
       " 'models/target_rfc_roadset62.pkl_414.npy',\n",
       " 'models/target_rfc_roadset62.pkl_415.npy',\n",
       " 'models/target_rfc_roadset62.pkl_416.npy',\n",
       " 'models/target_rfc_roadset62.pkl_417.npy',\n",
       " 'models/target_rfc_roadset62.pkl_418.npy',\n",
       " 'models/target_rfc_roadset62.pkl_419.npy',\n",
       " 'models/target_rfc_roadset62.pkl_420.npy',\n",
       " 'models/target_rfc_roadset62.pkl_421.npy',\n",
       " 'models/target_rfc_roadset62.pkl_422.npy',\n",
       " 'models/target_rfc_roadset62.pkl_423.npy',\n",
       " 'models/target_rfc_roadset62.pkl_424.npy',\n",
       " 'models/target_rfc_roadset62.pkl_425.npy',\n",
       " 'models/target_rfc_roadset62.pkl_426.npy',\n",
       " 'models/target_rfc_roadset62.pkl_427.npy',\n",
       " 'models/target_rfc_roadset62.pkl_428.npy',\n",
       " 'models/target_rfc_roadset62.pkl_429.npy',\n",
       " 'models/target_rfc_roadset62.pkl_430.npy',\n",
       " 'models/target_rfc_roadset62.pkl_431.npy',\n",
       " 'models/target_rfc_roadset62.pkl_432.npy',\n",
       " 'models/target_rfc_roadset62.pkl_433.npy',\n",
       " 'models/target_rfc_roadset62.pkl_434.npy',\n",
       " 'models/target_rfc_roadset62.pkl_435.npy',\n",
       " 'models/target_rfc_roadset62.pkl_436.npy',\n",
       " 'models/target_rfc_roadset62.pkl_437.npy',\n",
       " 'models/target_rfc_roadset62.pkl_438.npy',\n",
       " 'models/target_rfc_roadset62.pkl_439.npy',\n",
       " 'models/target_rfc_roadset62.pkl_440.npy',\n",
       " 'models/target_rfc_roadset62.pkl_441.npy',\n",
       " 'models/target_rfc_roadset62.pkl_442.npy',\n",
       " 'models/target_rfc_roadset62.pkl_443.npy',\n",
       " 'models/target_rfc_roadset62.pkl_444.npy',\n",
       " 'models/target_rfc_roadset62.pkl_445.npy',\n",
       " 'models/target_rfc_roadset62.pkl_446.npy',\n",
       " 'models/target_rfc_roadset62.pkl_447.npy',\n",
       " 'models/target_rfc_roadset62.pkl_448.npy',\n",
       " 'models/target_rfc_roadset62.pkl_449.npy',\n",
       " 'models/target_rfc_roadset62.pkl_450.npy',\n",
       " 'models/target_rfc_roadset62.pkl_451.npy',\n",
       " 'models/target_rfc_roadset62.pkl_452.npy',\n",
       " 'models/target_rfc_roadset62.pkl_453.npy',\n",
       " 'models/target_rfc_roadset62.pkl_454.npy',\n",
       " 'models/target_rfc_roadset62.pkl_455.npy',\n",
       " 'models/target_rfc_roadset62.pkl_456.npy',\n",
       " 'models/target_rfc_roadset62.pkl_457.npy',\n",
       " 'models/target_rfc_roadset62.pkl_458.npy',\n",
       " 'models/target_rfc_roadset62.pkl_459.npy',\n",
       " 'models/target_rfc_roadset62.pkl_460.npy',\n",
       " 'models/target_rfc_roadset62.pkl_461.npy',\n",
       " 'models/target_rfc_roadset62.pkl_462.npy',\n",
       " 'models/target_rfc_roadset62.pkl_463.npy',\n",
       " 'models/target_rfc_roadset62.pkl_464.npy',\n",
       " 'models/target_rfc_roadset62.pkl_465.npy',\n",
       " 'models/target_rfc_roadset62.pkl_466.npy',\n",
       " 'models/target_rfc_roadset62.pkl_467.npy',\n",
       " 'models/target_rfc_roadset62.pkl_468.npy',\n",
       " 'models/target_rfc_roadset62.pkl_469.npy',\n",
       " 'models/target_rfc_roadset62.pkl_470.npy',\n",
       " 'models/target_rfc_roadset62.pkl_471.npy',\n",
       " 'models/target_rfc_roadset62.pkl_472.npy',\n",
       " 'models/target_rfc_roadset62.pkl_473.npy',\n",
       " 'models/target_rfc_roadset62.pkl_474.npy',\n",
       " 'models/target_rfc_roadset62.pkl_475.npy',\n",
       " 'models/target_rfc_roadset62.pkl_476.npy',\n",
       " 'models/target_rfc_roadset62.pkl_477.npy',\n",
       " 'models/target_rfc_roadset62.pkl_478.npy',\n",
       " 'models/target_rfc_roadset62.pkl_479.npy',\n",
       " 'models/target_rfc_roadset62.pkl_480.npy',\n",
       " 'models/target_rfc_roadset62.pkl_481.npy',\n",
       " 'models/target_rfc_roadset62.pkl_482.npy',\n",
       " 'models/target_rfc_roadset62.pkl_483.npy',\n",
       " 'models/target_rfc_roadset62.pkl_484.npy',\n",
       " 'models/target_rfc_roadset62.pkl_485.npy',\n",
       " 'models/target_rfc_roadset62.pkl_486.npy',\n",
       " 'models/target_rfc_roadset62.pkl_487.npy',\n",
       " 'models/target_rfc_roadset62.pkl_488.npy',\n",
       " 'models/target_rfc_roadset62.pkl_489.npy',\n",
       " 'models/target_rfc_roadset62.pkl_490.npy',\n",
       " 'models/target_rfc_roadset62.pkl_491.npy',\n",
       " 'models/target_rfc_roadset62.pkl_492.npy',\n",
       " 'models/target_rfc_roadset62.pkl_493.npy',\n",
       " 'models/target_rfc_roadset62.pkl_494.npy',\n",
       " 'models/target_rfc_roadset62.pkl_495.npy',\n",
       " 'models/target_rfc_roadset62.pkl_496.npy',\n",
       " 'models/target_rfc_roadset62.pkl_497.npy',\n",
       " 'models/target_rfc_roadset62.pkl_498.npy',\n",
       " 'models/target_rfc_roadset62.pkl_499.npy',\n",
       " 'models/target_rfc_roadset62.pkl_500.npy',\n",
       " 'models/target_rfc_roadset62.pkl_501.npy']"
      ]
     },
     "execution_count": 356,
     "metadata": {},
     "output_type": "execute_result"
    }
   ],
   "source": [
    "# Write our pickled classifier to file`\n",
    "rfc_pickle_name = \"models/target_rfc_roadset62.pkl\"\n",
    "\n",
    "if os.path.exists(rfc_pickle_name):\n",
    "    os.remove(rfc_pickle_name)\n",
    "\n",
    "joblib.dump(rfc_final, rfc_pickle_name)"
   ]
  },
  {
   "cell_type": "code",
   "execution_count": 344,
   "metadata": {
    "collapsed": false
   },
   "outputs": [
    {
     "data": {
      "text/plain": [
       "Index([u'G:RD3161', u'AfterInhMATRIX5', u'G:RD3162', u'PrescaleMATRIX5', u'AfterInhMATRIX3', u'PrescaleMATRIX3', u'AcceptedMATRIX1', u'RawNIM1', u'AfterInhMATRIX1', u'TsBusy', u'AfterInhNIM2', u'PrescaledTrigger', u'TSGo', u'AfterInhMATRIX4', u'PrescaleMATRIX1', u'RawMATRIX4', u'RawTriggers', u'RawMATRIX5'], dtype='object')"
      ]
     },
     "execution_count": 344,
     "metadata": {},
     "output_type": "execute_result"
    }
   ],
   "source": [
    "data_reduced.shape\n",
    "reduced_df.columns"
   ]
  },
  {
   "cell_type": "code",
   "execution_count": 345,
   "metadata": {
    "collapsed": true
   },
   "outputs": [
    {
     "data": {
      "text/plain": [
       "['G:RD3161',\n",
       " 'AfterInhMATRIX5',\n",
       " 'G:RD3162',\n",
       " 'PrescaleMATRIX5',\n",
       " 'AfterInhMATRIX3',\n",
       " 'PrescaleMATRIX3',\n",
       " 'AcceptedMATRIX1',\n",
       " 'RawNIM1',\n",
       " 'AfterInhMATRIX1',\n",
       " 'TsBusy',\n",
       " 'AfterInhNIM2',\n",
       " 'PrescaledTrigger',\n",
       " 'TSGo',\n",
       " 'AfterInhMATRIX4',\n",
       " 'PrescaleMATRIX1',\n",
       " 'RawMATRIX4',\n",
       " 'RawTriggers',\n",
       " 'RawMATRIX5']"
      ]
     },
     "execution_count": 345,
     "metadata": {},
     "output_type": "execute_result"
    }
   ],
   "source": [
    "useful_feature_list"
   ]
  },
  {
   "cell_type": "code",
   "execution_count": null,
   "metadata": {
    "collapsed": true
   },
   "outputs": [],
   "source": []
  }
 ],
 "metadata": {
  "kernelspec": {
   "display_name": "Python 2",
   "language": "python",
   "name": "python2"
  },
  "language_info": {
   "codemirror_mode": {
    "name": "ipython",
    "version": 2
   },
   "file_extension": ".py",
   "mimetype": "text/x-python",
   "name": "python",
   "nbconvert_exporter": "python",
   "pygments_lexer": "ipython2",
   "version": "2.7.6"
  }
 },
 "nbformat": 4,
 "nbformat_minor": 0
}
